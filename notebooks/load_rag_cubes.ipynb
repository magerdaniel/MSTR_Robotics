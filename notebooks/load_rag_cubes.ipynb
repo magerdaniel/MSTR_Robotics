{
 "cells": [
  {
   "cell_type": "markdown",
   "id": "7e493474",
   "metadata": {},
   "source": [
    "# Initialize Notebook"
   ]
  },
  {
   "cell_type": "code",
   "execution_count": 1,
   "id": "687664118d8be8ae",
   "metadata": {
    "ExecuteTime": {
     "end_time": "2025-04-03T04:42:34.041560Z",
     "start_time": "2025-04-03T04:42:23.445399Z"
    }
   },
   "outputs": [],
   "source": [
    "from collections import OrderedDict\n",
    "from IPython.display import HTML,clear_output\n",
    "import pandas as pd\n",
    "import warnings\n",
    "import json\n",
    "\n",
    "from mstr_robotics.read_out_prj_obj import read_report\n",
    "from mstr_robotics.prepare_AI_data import map_objects\n",
    "from mstr_robotics.mstr_classes import mstr_global,md_searches\n",
    "\n",
    "from mstr_robotics.read_out_prj_obj import io_attributes,read_prompts,read_cube,read_schema\n",
    "from mstr_robotics._helper import msic\n",
    "from mstr_robotics._connectors import mstr_api\n",
    "from mstr_robotics.report import rep,prompts,cube\n",
    "\n",
    "from mstr_robotics.dossier import doss_read_out,doss_read_out_det\n",
    "from mstrio.connection import Connection\n",
    "\n",
    "from mstr_robotics.mstr_pandas import df_helper\n",
    "\n",
    "warnings.filterwarnings(\"ignore\")\n",
    "i_mstr_global=mstr_global()\n",
    "i_read_report=read_report()\n",
    "i_read_schema=read_schema()\n",
    "i_rep=rep()\n",
    "i_cube=cube()\n",
    "i_read_cube=read_cube()\n",
    "i_mstr_global=mstr_global()\n",
    "i_md_searches=md_searches()\n",
    "i_msic=msic()\n",
    "io_att=io_attributes()\n",
    "i_read_prompts=read_prompts()\n",
    "i_mstr_api=mstr_api()\n",
    "i_prompts=prompts()\n",
    "i_df_helper=df_helper()\n",
    "i_read_out_cube_att=read_cube()\n",
    "i_map_objects=map_objects()\n",
    "i_doss_read_out=doss_read_out()\n",
    "i_doss_read_out_det=doss_read_out_det()\n",
    "i_df_helper=df_helper()"
   ]
  },
  {
   "cell_type": "markdown",
   "id": "80d1fddc-570d-491f-9da1-3e857d7ce191",
   "metadata": {},
   "source": [
    "## Config your project read out"
   ]
  },
  {
   "cell_type": "code",
   "execution_count": 2,
   "id": "b085922fc484d2cc",
   "metadata": {
    "ExecuteTime": {
     "end_time": "2025-03-19T13:30:49.753928Z",
     "start_time": "2025-03-19T13:30:49.741283Z"
    }
   },
   "outputs": [],
   "source": [
    "user_path=\"..\\\\config\\\\user_d.json\"\n",
    "with open(user_path, 'r') as file:\n",
    "    user_d = json.load(file)\n",
    "\n",
    "jupyter_path=\"..\\\\config\\\\jupyter_objects_d.json\"\n",
    "with open(jupyter_path, 'r') as file:\n",
    "    jupyter_objects_d = json.load(file)\n",
    "\n",
    "conn_params =  user_d[\"conn_params\"]\n",
    "#GUID of MSTR Project\n",
    "RAG_Process=\"turtorial_RAG\"\n",
    "project_id=jupyter_objects_d[RAG_Process][\"project_id\"]          #Tutorial project\n",
    "\n",
    "#Guid for generated cubes\n",
    "read_out_cbe_fold_id=jupyter_objects_d[RAG_Process][\"read_out_cbe_fold_id\"] \n",
    "\n",
    "#Guid from folder with cubes with attribute elements\n",
    "ele_cbe_folder_id=jupyter_objects_d[RAG_Process][\"ele_cbe_folder_id\"] \n",
    "\n",
    "# Short cut folder for Reports and dossiers reachable for AI\n",
    "read_out_ai_obj_fold_id=jupyter_objects_d[RAG_Process][\"read_out_ai_obj_fold_id\"] \n",
    "\n",
    "cube_RAG_form_val_ans_name=jupyter_objects_d[RAG_Process][\"cube_RAG_form_val_ans_name\"] \n",
    "cube_RAG_form_val_ans_id=jupyter_objects_d[RAG_Process][\"cube_RAG_form_val_ans_id\"] \n",
    "#cube_RAG_form_val_ans_id=None\n",
    "\n",
    "cube_obj_prp_rel_name=jupyter_objects_d[RAG_Process][\"cube_obj_prp_rel_name\"] \n",
    "cube_obj_prp_rel_id=jupyter_objects_d[RAG_Process][\"cube_obj_prp_rel_id\"] \n",
    "\n",
    "\n",
    "cube_att_form_def_name=jupyter_objects_d[RAG_Process][\"cube_att_form_def_name\"] \n",
    "cube_att_form_def_id= jupyter_objects_d[RAG_Process][\"cube_att_form_def_id\"] \n",
    "#cube_att_form_def_id=None\n",
    "\n",
    "cbe_doss_vis_def_detail_id=jupyter_objects_d[RAG_Process][\"cbe_doss_vis_def_detail_id\"] \n",
    "cbe_doss_vis_def_detail_name=jupyter_objects_d[RAG_Process][\"cbe_doss_vis_def_detail_name\"] \n",
    "\n",
    "cbe_cube_read_out_id=jupyter_objects_d[RAG_Process][\"cbe_cube_read_out_id\"] \n",
    "cbe_cube_read_out_name=jupyter_objects_d[RAG_Process][\"cbe_cube_read_out_name\"] \n",
    "cbe_cube_read_out_id=None\n",
    "\n",
    "cbe_rep_def_id= jupyter_objects_d[RAG_Process][\"cbe_rep_def_id\"] \n",
    "cbe_rep_def_name=jupyter_objects_d[RAG_Process][\"cbe_rep_def_name\"] \n",
    "\n",
    "cbe_tbl_att_fct_mapping_id= jupyter_objects_d[RAG_Process][\"cbe_tbl_att_fct_mapping_id\"] \n",
    "cbe_tbl_att_fct_mapping_name=jupyter_objects_d[RAG_Process][\"cbe_tbl_att_fct_mapping_name\"] \n",
    "\n",
    "\n",
    "#cbe_tbl_att_fct_mapping_id=None\n",
    "#cbe_rep_def_id=None\n",
    "#cube_att_form_def_id=None\n",
    "#cube_att_form_def_id=None"
   ]
  },
  {
   "cell_type": "markdown",
   "id": "62136ef1-aa29-4077-87ef-110af4c40aa3",
   "metadata": {},
   "source": [
    "## Connect to your project"
   ]
  },
  {
   "cell_type": "code",
   "execution_count": 3,
   "id": "5750d5411d88f1be",
   "metadata": {
    "ExecuteTime": {
     "end_time": "2025-03-19T13:30:50.295976Z",
     "start_time": "2025-03-19T13:30:50.119840Z"
    }
   },
   "outputs": [
    {
     "name": "stdout",
     "output_type": "stream",
     "text": [
      "Connection to MicroStrategy Intelligence Server has been established.\n"
     ]
    }
   ],
   "source": [
    "#Open connection to MSTR\n",
    "conn_params[\"project_id\"]=project_id\n",
    "conn = Connection(**conn_params)\n",
    "conn.headers['Content-type'] = \"application/json\"\n",
    "load_d={\"base_url\":conn.base_url,\"project_name\":conn.project_name,\"username\":conn.username}"
   ]
  },
  {
   "cell_type": "markdown",
   "id": "d9d0430cb91ae20d",
   "metadata": {},
   "source": [
    "## Read out relevant cubes for master data , reports and dashboards for BI - Chat Bot"
   ]
  },
  {
   "cell_type": "code",
   "execution_count": 4,
   "id": "5f40fb9d2bc46219",
   "metadata": {
    "ExecuteTime": {
     "end_time": "2025-03-19T13:31:05.708883Z",
     "start_time": "2025-03-19T13:30:50.325054Z"
    }
   },
   "outputs": [
    {
     "name": "stdout",
     "output_type": "stream",
     "text": [
      "Folder object named: 'Master data' with ID: '2B028FBC466C3DC839E1E092FDF4CC56'\n",
      "Folder object named: 'AI enabeling' with ID: 'D41FC55D4282E9A5C943D9A8670336CF'\n"
     ]
    }
   ],
   "source": [
    "cube_list_l= i_mstr_global.get_folder_obj_l(conn=conn,folder_id=ele_cbe_folder_id)\n",
    "AI_rep_obj_l= i_mstr_global.get_obj_from_sh_fold(conn=conn,folder_id=read_out_ai_obj_fold_id)"
   ]
  },
  {
   "cell_type": "code",
   "execution_count": 5,
   "id": "85cb7df04af95ef1",
   "metadata": {
    "ExecuteTime": {
     "end_time": "2025-03-19T13:33:06.368613Z",
     "start_time": "2025-03-19T13:31:05.729760Z"
    }
   },
   "outputs": [],
   "source": [
    "# Reports & dossiers with AI access\n",
    "dos_rep_prp_rel_d=i_map_objects.get_doss_rep_prp(conn,object_l=AI_rep_obj_l)\n",
    "dos_rep_prp_rel_l=dos_rep_prp_rel_d[\"prp_rep_l\"]\n",
    "dos_rep_prp_rel_df=pd.DataFrame(dos_rep_prp_rel_l)\n",
    "\n",
    "AI_dos_rep_df=pd.DataFrame(AI_rep_obj_l)\n",
    "AI_dos_rep_df.rename(columns={'name': 'dos_rep_name'}, inplace=True)\n",
    "\n",
    "dos_rep_prp_rel_df = pd.merge(dos_rep_prp_rel_df[[\"project_id\",\"rep_dos_id\", \"type\",\"sub_type\",\"prompt_id\"]],\n",
    "                            AI_dos_rep_df[[\"project_id\",\"id\",\"dos_rep_name\",\"type\",\"type_bez\",\"sub_type\",\"sub_type_bez\"]],\n",
    "                          left_on=['rep_dos_id'],right_on=['id'] , how='inner')\n",
    "dos_rep_prp_rel_df=i_df_helper.clean_double_col(df=dos_rep_prp_rel_df)\n",
    "dos_rep_prp_rel_df=dos_rep_prp_rel_df.drop(\"id\", axis=1)\n",
    "dos_rep_prp_rel_df=i_df_helper.add_prefix_col_to_df(df=dos_rep_prp_rel_df, prefix_col_d=load_d)\n",
    "\n",
    "dos_rep_prp_rel_df=dos_rep_prp_rel_df.astype('str')\n",
    "\n",
    "to_attribute=list(dos_rep_prp_rel_df.columns)\n",
    "\n",
    "dos_rep_prp_rel_df[\"rep_prp_rel_dummy\"]=1\n",
    "dos_rep_prp_rel_d_l=[{\"df\":dos_rep_prp_rel_df,\"tbl_name\":\"dos_rep_prp_rel_df\", \"update_policy\":\"Replace\"}]\n",
    "clear_output()"
   ]
  },
  {
   "cell_type": "markdown",
   "id": "26ce661a-0cd9-4315-9481-2c807931218d",
   "metadata": {},
   "source": [
    "## load prompts and prompt objects relations"
   ]
  },
  {
   "cell_type": "code",
   "execution_count": 6,
   "id": "ac0287df-c342-40cd-b356-f0ee44353cae",
   "metadata": {
    "ExecuteTime": {
     "end_time": "2025-03-19T13:33:57.421443Z",
     "start_time": "2025-03-19T13:33:06.401294Z"
    },
    "scrolled": true
   },
   "outputs": [
    {
     "name": "stdout",
     "output_type": "stream",
     "text": [
      "allHierPrompt\n",
      "SuperCube object named: 'obj_prp_rel' with ID: '1F0C564A40101C08ABF602AAB81B2324'\n"
     ]
    },
    {
     "name": "stderr",
     "output_type": "stream",
     "text": [
      "Uploading 1/2: 100%|██████████| 1/1 [00:00<00:00, 11.63it/s, rows=688]\n",
      "Uploading 2/2: 100%|██████████| 1/1 [00:00<00:00, 14.05it/s, rows=523]\n"
     ]
    },
    {
     "name": "stdout",
     "output_type": "stream",
     "text": [
      "Super cube 'obj_prp_rel' published successfully.\n"
     ]
    },
    {
     "data": {
      "text/plain": [
       "'1F0C564A40101C08ABF602AAB81B2324'"
      ]
     },
     "execution_count": 6,
     "metadata": {},
     "output_type": "execute_result"
    }
   ],
   "source": [
    "read_out_prp_all_d=i_read_prompts.run_read_out_prp_def(conn)\n",
    "read_out_prp_all_df=pd.DataFrame(read_out_prp_all_d[\"prompt_def_l\"])\n",
    "\n",
    "obj_prp_rel_df=pd.DataFrame(read_out_prp_all_d[\"prompt_obj_l\"])\n",
    "\n",
    "\n",
    "obj_prp_rel_df = pd.merge(read_out_prp_all_df[[\"project_id\",\"prompt_id\", \"prp_subType\",\"promt_name\"]],\n",
    "                            obj_prp_rel_df[[\"project_id\",\"prompt_id\",\"object_id\",\"obj_type\",\"obj_prp_ans\",\"key\"]],\n",
    "                          on=['prompt_id'] , how='left')\n",
    "obj_prp_rel_df=i_df_helper.clean_double_col(df=obj_prp_rel_df)\n",
    "obj_prp_rel_df=i_df_helper.add_prefix_col_to_df(df=obj_prp_rel_df, prefix_col_d=load_d)\n",
    "\n",
    "to_attribute=list(obj_prp_rel_df.columns)\n",
    "obj_prp_rel_df[\"obj_prp_rel_dummy\"]=1\n",
    "\n",
    "obj_prp_rel_d_l=[{\"df\":obj_prp_rel_df,\"tbl_name\":\"obj_prp_rel_df\", \"update_policy\":\"Replace\" }]\n",
    "obj_prp_rel_d_l.extend(dos_rep_prp_rel_d_l)\n",
    "\n",
    "i_cube.upload_cube_mult_table(conn=conn,tbl_upd_dict=obj_prp_rel_d_l,mtdi_id=cube_obj_prp_rel_id,\n",
    "                              cube_name=cube_obj_prp_rel_name,folder_id=read_out_cbe_fold_id,force=True)"
   ]
  },
  {
   "cell_type": "markdown",
   "id": "14f00bdd-8603-4883-9e6b-45adc0670ca8",
   "metadata": {},
   "source": [
    "## prepare attribute expression prompts values"
   ]
  },
  {
   "cell_type": "code",
   "execution_count": 7,
   "id": "657c44cd-959e-463a-9e5e-6aa12b2337d1",
   "metadata": {
    "ExecuteTime": {
     "end_time": "2025-03-19T13:34:02.801440Z",
     "start_time": "2025-03-19T13:33:57.482055Z"
    }
   },
   "outputs": [
    {
     "name": "stdout",
     "output_type": "stream",
     "text": [
      "SuperCube object named: 'attribute_form_elements' with ID: 'B0A4AFCB4F8B53B4EB677D89B7A85CF0'\n"
     ]
    },
    {
     "name": "stderr",
     "output_type": "stream",
     "text": [
      "Uploading 1/2: 100%|██████████| 1/1 [00:00<00:00,  1.83it/s, rows=20302]\n",
      "Uploading 2/2: 100%|██████████| 1/1 [00:00<00:00, 14.71it/s, rows=523]\n"
     ]
    },
    {
     "name": "stdout",
     "output_type": "stream",
     "text": [
      "Super cube 'attribute_form_elements' published successfully.\n"
     ]
    },
    {
     "data": {
      "text/plain": [
       "'B0A4AFCB4F8B53B4EB677D89B7A85CF0'"
      ]
     },
     "execution_count": 7,
     "metadata": {},
     "output_type": "execute_result"
    }
   ],
   "source": [
    "# read out all values for attribute forms\n",
    "key_att_form_val_l= i_read_out_cube_att.read_cube_att_form_exp_val_l(conn,cube_list_l)\n",
    "key_att_form_val_df=pd.DataFrame(key_att_form_val_l)\n",
    "\n",
    "\n",
    "prompt_expression_df = obj_prp_rel_df[obj_prp_rel_df['prp_subType'].isin(['prompt_expression'])]\n",
    "\n",
    "key_att_form_val_df = pd.merge(prompt_expression_df[[\"project_id\",\"prompt_id\", \"prp_subType\",\"promt_name\",\"object_id\"]],\n",
    "                            key_att_form_val_df[[\"project_id\",\"attribute_id\",\"attribute_name\",\"form_id\",\"form_name\",\"form_dataType\",\"key\",\"ele_prp_ans\"]],\n",
    "                          left_on=['object_id'],right_on=['attribute_id'] , how='inner')\n",
    "\n",
    "key_att_form_val_df=i_df_helper.clean_double_col(df=key_att_form_val_df)\n",
    "key_att_form_val_df = key_att_form_val_df.drop('object_id', axis=1)\n",
    "\n",
    "key_att_form_val_df=i_df_helper.add_prefix_col_to_df(df=key_att_form_val_df, prefix_col_d=load_d)\n",
    "\n",
    "key_att_form_val_df=key_att_form_val_df.astype('str')\n",
    "\n",
    "key_att_form_val_df[\"key_att_form_val_dummy\"]=1\n",
    "key_att_form_val_d_l=[{\"df\":key_att_form_val_df,\"tbl_name\":\"key_att_form_val_df\", \"update_policy\":\"Replace\"}]\n",
    "\n",
    "key_att_form_val_d_l.extend(dos_rep_prp_rel_d_l)\n",
    "i_cube.upload_cube_mult_table(conn=conn,tbl_upd_dict=key_att_form_val_d_l,mtdi_id=cube_RAG_form_val_ans_id,\n",
    "                              cube_name=cube_RAG_form_val_ans_name,folder_id=read_out_cbe_fold_id,force=True)"
   ]
  },
  {
   "cell_type": "markdown",
   "id": "e38d15f1-f028-4ca4-af4a-e2a015e76ffb",
   "metadata": {},
   "source": [
    "## read out table mappings"
   ]
  },
  {
   "cell_type": "code",
   "execution_count": 8,
   "id": "f774222a-1d55-4cc5-8b1d-76fc850586a3",
   "metadata": {},
   "outputs": [
    {
     "name": "stdout",
     "output_type": "stream",
     "text": [
      "SuperCube object named: 'tbl_att_fct_mapping' with ID: 'D1D2CE9E43C95905EF6640AA0576FE1C'\n"
     ]
    },
    {
     "name": "stderr",
     "output_type": "stream",
     "text": [
      "Uploading 1/1: 100%|██████████| 1/1 [00:00<00:00,  8.06it/s, rows=2204]\n"
     ]
    },
    {
     "name": "stdout",
     "output_type": "stream",
     "text": [
      "Super cube 'tbl_att_fct_mapping' published successfully.\n"
     ]
    },
    {
     "data": {
      "text/plain": [
       "'D1D2CE9E43C95905EF6640AA0576FE1C'"
      ]
     },
     "execution_count": 8,
     "metadata": {},
     "output_type": "execute_result"
    }
   ],
   "source": [
    "#read out the schema & builds a cube upload file for attributes, facts & table definitions\n",
    "\n",
    "schema_mappings_d=i_read_schema.table_mappings(conn=conn,run_prop_d=load_d)\n",
    "\n",
    "#better readabillity in the next cell\n",
    "att_form_exp_df=schema_mappings_d[\"att_form_exp_df\"]\n",
    "fact_exp_df=schema_mappings_d[\"fact_exp_df\"]\n",
    "table_df=schema_mappings_d[\"table_df\"]\n",
    "\n",
    "tbl_att_fct_df = pd.merge(table_df[[\"project_id\",\"table_id\",\"table_name\", \"column_id\",\"column_name\",\"physicalTable_id\",\"physicalTable_name\"]],\n",
    "                          att_form_exp_df[[\"project_id\", 'table_id', \"column_id\", \"attribute_id\",\"attribute_name\", \"form_expressionId\",\"form_name\"]],\n",
    "                          on=['project_id', 'table_id', 'column_id'], how='left')\n",
    "i_df_helper.clean_double_col(df=tbl_att_fct_df)\n",
    "tbl_att_fct_df = pd.merge(tbl_att_fct_df, \n",
    "                          fact_exp_df[[\"project_id\", \"column_id\",\"fact_id\",\"fact_name\",\"fact_expressionId\"]],\n",
    "                          on=['project_id', 'column_id'], how='left')\n",
    "i_df_helper.clean_double_col(df=tbl_att_fct_df)\n",
    "tbl_att_fct_df[\"phys_tbl_col_id\"]=tbl_att_fct_df[\"physicalTable_id\"]+ \"_\"+ tbl_att_fct_df[\"column_id\"]\n",
    "tbl_att_fct_d_l=[{\"df\":tbl_att_fct_df,\"tbl_name\":\"tbl_att_fct_df\", \"update_policy\":\"Replace\"}]\n",
    "\n",
    "i_cube.upload_cube_mult_table(conn=conn,tbl_upd_dict=tbl_att_fct_d_l,mtdi_id=cbe_tbl_att_fct_mapping_id ,\n",
    "                              cube_name=cbe_tbl_att_fct_mapping_name,folder_id=read_out_cbe_fold_id,force=True)\n"
   ]
  },
  {
   "cell_type": "markdown",
   "id": "1dee8957-65bf-4703-8f85-3a388a2fdf42",
   "metadata": {},
   "source": [
    "## Read out all OLAP Cubes"
   ]
  },
  {
   "cell_type": "code",
   "execution_count": 9,
   "id": "8afcf86f-bb36-48ca-bb43-9975367c872a",
   "metadata": {},
   "outputs": [
    {
     "name": "stdout",
     "output_type": "stream",
     "text": [
      "Created super cube 'cube_definitions' with ID: '628A864E44E5549D2AB6D28FD195A73A'.\n"
     ]
    },
    {
     "name": "stderr",
     "output_type": "stream",
     "text": [
      "Uploading 1/3: 100%|██████████| 1/1 [00:00<00:00, 17.86it/s, rows=28]\n",
      "Uploading 2/3: 100%|██████████| 1/1 [00:00<00:00, 21.00it/s, rows=344]\n",
      "Uploading 3/3: 100%|██████████| 1/1 [00:00<00:00, 22.48it/s, rows=183]\n"
     ]
    },
    {
     "name": "stdout",
     "output_type": "stream",
     "text": [
      "Super cube 'cube_definitions' published successfully.\n"
     ]
    },
    {
     "data": {
      "text/plain": [
       "'628A864E44E5549D2AB6D28FD195A73A'"
      ]
     },
     "execution_count": 9,
     "metadata": {},
     "output_type": "execute_result"
    }
   ],
   "source": [
    "cube_search_l=i_md_searches.search_for_type_l(conn=conn,obj_l=[\"776\"])\n",
    "cube_l = i_msic.get_key_form_dict_l(dict_l=cube_search_l,key=\"id\")\n",
    "\n",
    "cube_read_out_d_l=i_read_cube.read_all_olap_cubes(conn=conn,cube_l=cube_l)\n",
    "\n",
    "cube_head_read_out_df=pd.DataFrame(cube_read_out_d_l[\"cube_head_d_l\"])\n",
    "cube_att_read_out_df=pd.DataFrame(cube_read_out_d_l[\"cube_att_d_l\"])\n",
    "cube_met_read_out_df=pd.DataFrame(cube_read_out_d_l[\"cube_met_d_l\"])\n",
    "\n",
    "cube_head_read_out_df=cube_head_read_out_df.astype('str')\n",
    "\n",
    "cube_read_out_l_d=[{\"df\":cube_head_read_out_df,\"tbl_name\":\"cube_head_read_out_df\", \"update_policy\":\"Replace\"}]\n",
    "cube_read_out_l_d.append({\"df\":cube_att_read_out_df,\"tbl_name\":\"cube_att_read_out_df\", \"update_policy\":\"Replace\"})\n",
    "cube_read_out_l_d.append({\"df\":cube_met_read_out_df,\"tbl_name\":\"cube_met_read_out_df\", \"update_policy\":\"Replace\"})\n",
    "\n",
    "i_cube.upload_cube_mult_table(conn=conn,tbl_upd_dict=cube_read_out_l_d,mtdi_id=cbe_cube_read_out_id \n",
    "                              , cube_name=cbe_cube_read_out_name,folder_id=read_out_cbe_fold_id,force=True)\n"
   ]
  },
  {
   "cell_type": "markdown",
   "id": "856d27f5-c38e-4249-a6eb-609713d7956c",
   "metadata": {},
   "source": [
    "## Read out Dossier"
   ]
  },
  {
   "cell_type": "code",
   "execution_count": 10,
   "id": "822b7fbe-a4df-450d-9c66-b8930a85aa53",
   "metadata": {
    "ExecuteTime": {
     "end_time": "2025-03-19T13:34:47.130751Z",
     "start_time": "2025-03-19T13:34:02.883484Z"
    }
   },
   "outputs": [
    {
     "name": "stdout",
     "output_type": "stream",
     "text": [
      "SuperCube object named: 'dashboard_definitions' with ID: '5FA79085461E723A503BAF8D3B4DE9D2'\n"
     ]
    },
    {
     "name": "stderr",
     "output_type": "stream",
     "text": [
      "Uploading 1/1: 100%|██████████| 1/1 [00:00<00:00, 14.67it/s, rows=460]\n"
     ]
    },
    {
     "name": "stdout",
     "output_type": "stream",
     "text": [
      "Super cube 'dashboard_definitions' published successfully.\n"
     ]
    },
    {
     "data": {
      "text/plain": [
       "'5FA79085461E723A503BAF8D3B4DE9D2'"
      ]
     },
     "execution_count": 10,
     "metadata": {},
     "output_type": "execute_result"
    }
   ],
   "source": [
    "dossier_id_l=i_msic.get_obj_id_by_type_l(dict_l=AI_rep_obj_l, obj_type_l=[55])\n",
    "#instance_id=i_mstr_api.create_dossier_instance(conn=conn, dossier_id=dossier_id)\n",
    "doss_vis_d=i_doss_read_out_det.run_read_out_doss_hier_det(conn,dossier_id_l)\n",
    "\n",
    "\n",
    "doss_vis_obj_df=pd.DataFrame(doss_vis_d)\n",
    "\n",
    "doss_vis_obj_df=i_df_helper.add_prefix_col_to_df(df=doss_vis_obj_df, prefix_col_d=load_d)\n",
    "\n",
    "doss_vis_obj_df.astype('str')\n",
    "\n",
    "doss_vis_def_detail_l_d=[{\"df\":doss_vis_obj_df,\"tbl_name\":\"doss_vis_obj_df\", \"update_policy\":\"Replace\"}]\n",
    "i_cube.upload_cube_mult_table(conn=conn,tbl_upd_dict=doss_vis_def_detail_l_d,mtdi_id=cbe_doss_vis_def_detail_id \n",
    "                              , cube_name=cbe_doss_vis_def_detail_name,folder_id=read_out_cbe_fold_id,force=True)\n"
   ]
  },
  {
   "cell_type": "markdown",
   "id": "5828a810-7e38-4b07-a777-a81d72b351bb",
   "metadata": {},
   "source": [
    "## Read out Reports"
   ]
  },
  {
   "cell_type": "code",
   "execution_count": 11,
   "id": "1ab1aba1-92f0-4e1f-a3c7-c70a46a877dc",
   "metadata": {
    "ExecuteTime": {
     "end_time": "2025-03-19T13:38:15.746058Z",
     "start_time": "2025-03-19T13:34:47.287982Z"
    },
    "scrolled": true
   },
   "outputs": [
    {
     "name": "stdout",
     "output_type": "stream",
     "text": [
      "Error getting report DB8D5B064BBE3C24F541DAA81A507FDC definition. Check report ID.\n",
      "I-Server Error ERR001, ()\n",
      "Ticket ID: 121d9dc025324dc5a63ec4c2fb895d60\n",
      "SuperCube object named: 'report_definitions' with ID: 'B7AE522248AD2604FA45489C1B750FBD'\n"
     ]
    },
    {
     "name": "stderr",
     "output_type": "stream",
     "text": [
      "Uploading 1/1: 100%|██████████| 1/1 [00:01<00:00,  1.41s/it, rows=24434]\n"
     ]
    },
    {
     "name": "stdout",
     "output_type": "stream",
     "text": [
      "Super cube 'report_definitions' published successfully.\n"
     ]
    },
    {
     "data": {
      "text/plain": [
       "'B7AE522248AD2604FA45489C1B750FBD'"
      ]
     },
     "execution_count": 11,
     "metadata": {},
     "output_type": "execute_result"
    }
   ],
   "source": [
    "report_id_l= i_msic.get_obj_id_by_type_l(dict_l=AI_rep_obj_l, obj_type_l=[3])\n",
    "rep_def_d=i_read_report.read_reports(conn=conn,report_id_l=report_id_l,load_d=load_d)\n",
    "#cbe_rep_def_id=None\n",
    "rep_def_df=rep_def_d[\"rep_def_df\"]\n",
    "rep_def_d_l=[{\"df\":rep_def_df,\"tbl_name\":\"rep_def_df\", \"update_policy\":\"Replace\"}]\n",
    "i_cube.upload_cube_mult_table(conn=conn,tbl_upd_dict=rep_def_d_l,mtdi_id=cbe_rep_def_id \n",
    "                              , cube_name=cbe_rep_def_name,folder_id=read_out_cbe_fold_id,force=True)"
   ]
  },
  {
   "cell_type": "markdown",
   "id": "7f0896bc88d48384",
   "metadata": {},
   "source": [
    "### read out Attributeforms"
   ]
  },
  {
   "cell_type": "code",
   "execution_count": 12,
   "id": "6f5eb7d1-6e35-40d8-8389-2bb80f23299e",
   "metadata": {},
   "outputs": [
    {
     "name": "stdout",
     "output_type": "stream",
     "text": [
      "SuperCube object named: 'att_form_def' with ID: '870C97DA4303C51097C4068CE4DB6C4D'\n"
     ]
    },
    {
     "name": "stderr",
     "output_type": "stream",
     "text": [
      "Uploading 1/1: 100%|██████████| 1/1 [00:00<00:00, 16.13it/s, rows=178]\n"
     ]
    },
    {
     "name": "stdout",
     "output_type": "stream",
     "text": [
      "Super cube 'att_form_def' published successfully.\n"
     ]
    },
    {
     "data": {
      "text/plain": [
       "'870C97DA4303C51097C4068CE4DB6C4D'"
      ]
     },
     "execution_count": 12,
     "metadata": {},
     "output_type": "execute_result"
    }
   ],
   "source": [
    "#att_def_df=pd.DataFrame(attributes_l)\n",
    "\n",
    "#remove table mappings to unique rows for each attribute form \n",
    "att_form_def_col=['project_id', 'attribute_id', 'attribute_name', 'form_id', 'form_name'\n",
    ", 'form_category', 'form_type', 'displayFormat', 'form_dataType', \n",
    "'REST_form_type', 'form_precision', 'form_scale', \n",
    "'key_form', 'display_form_nr', 'browse_form_nr']\n",
    "att_form_exp_df=att_form_exp_df[att_form_def_col].drop_duplicates()\n",
    "att_form_exp_df=i_df_helper.add_prefix_col_to_df(df=att_form_exp_df, prefix_col_d=load_d)\n",
    "att_form_exp_df=att_form_exp_df.astype('str')\n",
    "att_form_exp_df.reset_index()\n",
    "att_form_def_d_l=[{\"df\":att_form_exp_df,\"tbl_name\":\"att_form_def_df\", \"update_policy\":\"Replace\"}]\n",
    "i_cube.upload_cube_mult_table(conn=conn,tbl_upd_dict=att_form_def_d_l,mtdi_id=cube_att_form_def_id,\n",
    "                              cube_name=cube_att_form_def_name,folder_id=read_out_cbe_fold_id,force=True)"
   ]
  },
  {
   "cell_type": "code",
   "execution_count": 13,
   "id": "498d993fa4fab39e",
   "metadata": {
    "ExecuteTime": {
     "end_time": "2025-03-19T15:32:10.628836Z",
     "start_time": "2025-03-19T13:38:15.844484Z"
    }
   },
   "outputs": [
    {
     "name": "stdout",
     "output_type": "stream",
     "text": [
      "SuperCube object named: 'att_form_def' with ID: '870C97DA4303C51097C4068CE4DB6C4D'\n"
     ]
    },
    {
     "name": "stderr",
     "output_type": "stream",
     "text": [
      "Uploading 1/1: 100%|██████████| 1/1 [00:00<00:00, 16.57it/s, rows=175]\n"
     ]
    },
    {
     "name": "stdout",
     "output_type": "stream",
     "text": [
      "Super cube 'att_form_def' published successfully.\n"
     ]
    },
    {
     "data": {
      "text/plain": [
       "'870C97DA4303C51097C4068CE4DB6C4D'"
      ]
     },
     "execution_count": 13,
     "metadata": {},
     "output_type": "execute_result"
    }
   ],
   "source": [
    "#read out all attribute forms to support attribute form qualifications\n",
    "\n",
    "#att_id_l=i_msic.get_key_form_dict_l(dict_l=att_l,key=\"id\")\n",
    "att_list_df=pd.concat([obj_prp_rel_df.loc[obj_prp_rel_df['obj_type'] == \"attribute\", [\"object_id\"]]\n",
    "                       , doss_vis_obj_df.loc[doss_vis_obj_df['type'] == \"attribute\", [\"object_id\"]]\n",
    "                       , rep_def_df.loc[rep_def_df['obj_type'] == \"attribute\", [\"object_id\"]]\n",
    "                      ])\n",
    "\n",
    "att_list_df.drop_duplicates()\n",
    "att_id_l=att_list_df[\"object_id\"].tolist()\n",
    "#derived attributes are not supported in this version\n",
    "#thus we need to filter them out\n",
    "att_l=i_md_searches.search_for_type_l(conn=conn,obj_l=[\"12\"] )\n",
    "\n",
    "schema_att_id_l=i_msic.get_key_form_dict_l(dict_l=att_l,key=\"id\")\n",
    "read_out_att_id_l=i_msic.get_comon_val_l(list_1=att_id_l,list_2=schema_att_id_l)\n",
    "read_out_att_id_l=i_msic.rem_dbl_in_l(read_out_att_id_l)\n",
    "attributes_d=io_att.read_att_form_exp(conn=conn,att_id_l=read_out_att_id_l)\n",
    "attributes_l=attributes_d[\"all_att_maps_l\"]\n",
    "att_def_df=pd.DataFrame(attributes_l)\n",
    "\n",
    "#remove table mappings to unique rows for each attribute form \n",
    "att_form_def_col=['project_id', 'attribute_id', 'attribute_name', 'form_id', 'form_name'\n",
    ", 'form_category', 'form_type', 'displayFormat', 'form_dataType', \n",
    "'REST_form_type', 'form_precision', 'form_scale', \n",
    "'key_form', 'display_form_nr', 'browse_form_nr']\n",
    "att_form_def_df=att_def_df[att_form_def_col].drop_duplicates()\n",
    "att_form_def_df=i_df_helper.add_prefix_col_to_df(df=att_form_def_df, prefix_col_d=load_d)\n",
    "att_form_def_df=att_form_def_df.astype('str')\n",
    "att_form_def_df.reset_index()\n",
    "att_form_def_d_l=[{\"df\":att_form_def_df,\"tbl_name\":\"att_form_def_df\", \"update_policy\":\"Replace\"}]\n",
    "i_cube.upload_cube_mult_table(conn=conn,tbl_upd_dict=att_form_def_d_l,mtdi_id=cube_att_form_def_id,\n",
    "                              cube_name=cube_att_form_def_name,folder_id=read_out_cbe_fold_id,force=True)"
   ]
  },
  {
   "cell_type": "code",
   "execution_count": 14,
   "id": "deeb1765-414c-47ee-9cc6-ba102b67a667",
   "metadata": {},
   "outputs": [],
   "source": [
    "print(\"HHHH\")\n",
    "clear_output()"
   ]
  },
  {
   "cell_type": "code",
   "execution_count": null,
   "id": "9256a2b3-cf4a-4610-9683-f7c3ae593c3e",
   "metadata": {},
   "outputs": [],
   "source": []
  }
 ],
 "metadata": {
  "kernelspec": {
   "display_name": "Python 3 (ipykernel)",
   "language": "python",
   "name": "python3"
  },
  "language_info": {
   "codemirror_mode": {
    "name": "ipython",
    "version": 3
   },
   "file_extension": ".py",
   "mimetype": "text/x-python",
   "name": "python",
   "nbconvert_exporter": "python",
   "pygments_lexer": "ipython3",
   "version": "3.12.7"
  }
 },
 "nbformat": 4,
 "nbformat_minor": 5
}
