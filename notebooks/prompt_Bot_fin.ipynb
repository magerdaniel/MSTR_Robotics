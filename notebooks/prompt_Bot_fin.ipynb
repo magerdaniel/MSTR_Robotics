{
 "cells": [
  {
   "cell_type": "markdown",
   "id": "7e493474",
   "metadata": {},
   "source": [
    "# Initialize Notebook"
   ]
  },
  {
   "cell_type": "code",
   "execution_count": 2,
   "id": "6d7c683175329391",
   "metadata": {
    "ExecuteTime": {
     "end_time": "2025-02-24T17:46:43.432591Z",
     "start_time": "2025-02-24T17:46:37.124787Z"
    }
   },
   "outputs": [],
   "source": [
    "from IPython.display import HTML\n",
    "\n",
    "import warnings\n",
    "import json\n",
    "import ast\n",
    "\n",
    "from mstr_robotics.navigation import answer_prompts\n",
    "from openai import OpenAI\n",
    "from mstr_robotics.mstr_classes import mstr_global\n",
    "from mstr_robotics._helper import msic\n",
    "from mstr_robotics._connectors import mstr_api\n",
    "from mstr_robotics.report import rep, prompts, cube\n",
    "\n",
    "from mstrio.connection import Connection\n",
    "\n",
    "from mstr_robotics.mstr_pandas import df_helper\n",
    "from mstr_robotics.user_RAG import keyword_processor, vectorDB_faisst,mstr_openAI,chat_bot"
   ]
  },
  {
   "cell_type": "markdown",
   "id": "60436331-7ee2-49e4-9dfb-1471b08a4c53",
   "metadata": {},
   "source": [
    "## Config"
   ]
  },
  {
   "cell_type": "code",
   "execution_count": 3,
   "id": "a00d7a82a9028176",
   "metadata": {
    "ExecuteTime": {
     "end_time": "2025-02-24T17:46:45.105101Z",
     "start_time": "2025-02-24T17:46:44.952077Z"
    }
   },
   "outputs": [
    {
     "name": "stdout",
     "output_type": "stream",
     "text": [
      "Connection to MicroStrategy Intelligence Server has been established.\n"
     ]
    }
   ],
   "source": [
    "user_path=\"..\\\\config\\\\user_d.json\"\n",
    "with open(user_path, 'r') as file:\n",
    "    user_d = json.load(file)\n",
    "\n",
    "jupyter_path=\"..\\\\config\\\\jupyter_objects_d.json\"\n",
    "with open(jupyter_path, 'r') as file:\n",
    "    jupyter_objects_d = json.load(file)\n",
    "\n",
    "conn_params =  user_d[\"conn_params\"]\n",
    "sKey=user_d[\"sKey\"]\n",
    "\n",
    "#GUID of report wizzard & prompts\n",
    "project_id=jupyter_objects_d[\"turtorial_RAG\"][\"project_id\"]          #Tutorial project\n",
    "#Mstr prompted report\n",
    "rep_dos_id=jupyter_objects_d[\"chat_bot_rep\"][\"rep_dos_id\"]\n",
    "#GUID of output folder for generated reports\n",
    "ai_rep_folder_id = jupyter_objects_d[\"chat_bot_rep\"][\"ai_rep_folder_id\"]\n",
    "\n",
    "#cubes generated in load_rag_cubes\n",
    "cube_RAG_form_val_ans_name=jupyter_objects_d[\"turtorial_RAG\"][\"cube_RAG_form_val_ans_name\"]  \n",
    "cube_RAG_form_val_ans_id=jupyter_objects_d[\"turtorial_RAG\"][\"cube_RAG_form_val_ans_id\"]  \n",
    "\n",
    "cube_obj_prp_rel_name=jupyter_objects_d[\"turtorial_RAG\"][\"cube_obj_prp_rel_name\"]  \n",
    "cube_obj_prp_rel_id=jupyter_objects_d[\"turtorial_RAG\"][\"cube_obj_prp_rel_id\"]  \n",
    "\n",
    "cube_att_form_def_name=jupyter_objects_d[\"turtorial_RAG\"][\"cube_att_form_def_name\"]  \n",
    "cube_att_form_def_id=jupyter_objects_d[\"turtorial_RAG\"][\"cube_att_form_def_id\"]\n",
    "\n",
    "\n",
    "warnings.filterwarnings(\"ignore\")\n",
    "i_mstr_global = mstr_global()\n",
    "\n",
    "\n",
    "i_rep = rep()\n",
    "i_cube = cube()\n",
    "i_df_helper = df_helper()\n",
    "i_mstr_global = mstr_global()\n",
    "i_msic = msic()\n",
    "i_prompts = prompts()\n",
    "i_mstr_api = mstr_api()\n",
    "i_chat_bot_RAG=chat_bot()\n",
    "\n",
    "\n",
    "i_keyword_processor=keyword_processor()\n",
    "#i_vectorDB_faisst=vectorDB_faisst(sKey=sKey)\n",
    "#i_openAI=OpenAI(sKey=sKey)\n",
    "i_OpenAI=OpenAI\n",
    "#i_mstr_openAI=mstr_openAI(sKey=sKey)\n",
    "i_mstr_openAI=mstr_openAI()\n",
    "#i_openai.api_key = sKey\n",
    "\n",
    "#Open connection to MSTR\n",
    "conn_params[\"project_id\"]=project_id\n",
    "conn = Connection(**conn_params)\n",
    "conn.headers['Content-type'] = \"application/json\"\n",
    "\n",
    "#conn1 = Connection(base_url=base_url,username=username,\n",
    "#                  password=password,project_id=project_id)\n",
    "#conn1.headers['Content-type'] = \"application/json\""
   ]
  },
  {
   "cell_type": "markdown",
   "id": "84392641-2b45-4a3f-b54b-d6ff58314d64",
   "metadata": {},
   "source": [
    "## Load cubes "
   ]
  },
  {
   "cell_type": "code",
   "execution_count": 5,
   "id": "9ff2f7ae-5653-456e-93ba-a87409b01ae1",
   "metadata": {
    "ExecuteTime": {
     "end_time": "2025-02-24T17:46:46.501441Z",
     "start_time": "2025-02-24T17:46:46.301330Z"
    }
   },
   "outputs": [],
   "source": [
    "#cube with key cols for vector DB\n",
    "cube_l=[cube_RAG_form_val_ans_id,cube_obj_prp_rel_id]\n",
    "\n",
    "#all mtdi cubes \n",
    "mtdi_cube_l=[cube_RAG_form_val_ans_id,cube_obj_prp_rel_id,cube_att_form_def_id]\n",
    "mstr_rag_col_d=i_cube.get_mtdi_cube_col_id(conn,cube_l=mtdi_cube_l)\n",
    "i_run_chat_request=answer_prompts(cube_obj_prp_rel_id=cube_obj_prp_rel_id,\n",
    "                                  cube_RAG_form_val_ans_id=cube_RAG_form_val_ans_id,\n",
    "                                  cube_att_form_def_id=cube_att_form_def_id,\n",
    "                                  rep_dos_id=rep_dos_id)"
   ]
  },
  {
   "cell_type": "markdown",
   "id": "cb0fe15d-a870-43ea-8f40-69d051b4b570",
   "metadata": {},
   "source": [
    "## Load vector DB and key word processor"
   ]
  },
  {
   "cell_type": "code",
   "execution_count": 6,
   "id": "97929211",
   "metadata": {
    "ExecuteTime": {
     "end_time": "2025-02-24T17:46:50.968013Z",
     "start_time": "2025-02-24T17:46:46.573828Z"
    }
   },
   "outputs": [
    {
     "name": "stdout",
     "output_type": "stream",
     "text": [
      "OlapCube object named: 'attribute_form_elements' with ID: 'B0A4AFCB4F8B53B4EB677D89B7A85CF0'\n",
      "Warning: Object type mismatch. Object with provided ID: 'B0A4AFCB4F8B53B4EB677D89B7A85CF0' is not an OlapCube but an instance of: 'SUPER_CUBE'.\n"
     ]
    },
    {
     "name": "stderr",
     "output_type": "stream",
     "text": [
      "Downloading: 100%|██████████| 9/9 [02:01<00:00, 13.49s/it, rows=1072522]\n"
     ]
    },
    {
     "name": "stdout",
     "output_type": "stream",
     "text": [
      "OlapCube object named: 'obj_prp_rel' with ID: '1F0C564A40101C08ABF602AAB81B2324'\n",
      "Warning: Object type mismatch. Object with provided ID: '1F0C564A40101C08ABF602AAB81B2324' is not an OlapCube but an instance of: 'SUPER_CUBE'.\n"
     ]
    },
    {
     "name": "stderr",
     "output_type": "stream",
     "text": [
      "Downloading: 100%|██████████| 2/2 [00:03<00:00,  1.68s/it, rows=25479]\n"
     ]
    },
    {
     "data": {
      "text/plain": [
       "<flashtext.keyword.KeywordProcessor at 0x1f39c482630>"
      ]
     },
     "execution_count": 6,
     "metadata": {},
     "output_type": "execute_result"
    }
   ],
   "source": [
    "# here we load attribute form values and attribute and metric names\n",
    "#we only load columns with the name key\n",
    "key_l=[]\n",
    "for cube_id in cube_l:\n",
    "    key_df=i_cube.quick_query_cube(conn=conn,cube_id=cube_id)\n",
    "    key_l.extend(key_df[\"key\"].astype(str).to_list())\n",
    "\n",
    "#vector_store=i_vectorDB_faisst.load_vector_store(key_l)\n",
    "#i_vectorDB_faisst.load_vector_store(key_l)\n",
    "i_keyword_processor.load_keyword_processor(key_l)"
   ]
  },
  {
   "cell_type": "markdown",
   "id": "1156aa17",
   "metadata": {},
   "source": [
    "## ChatGPT query"
   ]
  },
  {
   "cell_type": "code",
   "execution_count": 7,
   "id": "8ce6d59b-ca1e-4bde-bb19-92dac086445b",
   "metadata": {
    "ExecuteTime": {
     "end_time": "2025-02-24T17:47:01.432034Z",
     "start_time": "2025-02-24T17:46:57.696073Z"
    }
   },
   "outputs": [
    {
     "data": {
      "text/plain": [
       "{'template': {'metrics': ['Revenue', 'Cost', 'Profit'],\n",
       "  'attributes': ['Category', 'Call Center']},\n",
       " 'filter': {'Year': {'In': [2021, 2022]},\n",
       "  'Call Center': {'Equals': 'Atlanta'},\n",
       "  'Revenue': {'Greater': 200}}}"
      ]
     },
     "execution_count": 7,
     "metadata": {},
     "output_type": "execute_result"
    }
   ],
   "source": [
    "temperature=0\n",
    "max_tokens=1000\n",
    "top_p=1\n",
    "model=\"gpt-4o-mini\"\n",
    "#model=\"gpt-4o\"\n",
    "\n",
    "msg_t=\"Please show me the Revenue, Cost and Profit for the attributes Category, Call Center\"\n",
    "msg_t= msg_t + \"and filter for the yaer 2021, 2022 and Call Center Atlanta and Revenue is greater than 200\"\n",
    "#msg_t= msg_t + \", for the top  5 customers by revenue\"\n",
    "\n",
    "#msg_t=\"Top 5 items by revenue in 2022\"\n",
    "#msg_t= msg_t + \" and where the region name begins with S\"\n",
    "#msg_t=\"Please show me the Revenue, cost and profit for Berlin at level of the Category, Call Center and Employee\"\n",
    "key_word_l=i_keyword_processor.extract_keywords(msg_t=msg_t)\n",
    "rag_rep_prp_l=[]\n",
    "\n",
    "#rag_rep_prp_filt_d=get_rag_rep_prp_d(conn=conn,cube_id=cube_RAG_form_val_ans_id, mstr_rag_col_d=mstr_rag_col_d,rep_dos_id=rep_dos_id,key_word_l=key_word_l)\n",
    "\n",
    "\n",
    "messages=i_chat_bot_RAG.split_AI_msg(msg_t,key_word_l)\n",
    "json_t=i_mstr_openAI.call_open_AI(sKey=sKey,messages=messages, max_tokens=max_tokens,temperature=temperature, model=model)\n",
    "json_t_d=json.loads(json_t[\"choices\"][0][\"message\"][\"content\"])\n",
    "msg_filter_t=json_t_d[\"filter\"]\n",
    "messages=i_chat_bot_RAG.filter_RAG_l(msg_t=msg_t,key_word_l=key_word_l,msg_filter_t=msg_filter_t)\n",
    "json_f=i_mstr_openAI.call_open_AI(sKey=sKey,messages=messages, max_tokens=max_tokens,temperature=temperature, model=model)\n",
    "json_f=json_f[\"choices\"][0][\"message\"][\"content\"]\n",
    "filter_d=ast.literal_eval(json_f)\n",
    "rep_def_j={\"template\":json_t_d[\"template\"],\"filter\":filter_d}\n",
    "rep_def_j"
   ]
  },
  {
   "cell_type": "code",
   "execution_count": null,
   "id": "4fb67b4f-c5dc-4e4c-8588-ce46632c11a5",
   "metadata": {},
   "outputs": [],
   "source": [
    "#filter_d=filter_d['criteria']\n"
   ]
  },
  {
   "cell_type": "markdown",
   "id": "b663bb0d-71d9-4d29-94bb-5e95257ca320",
   "metadata": {},
   "source": [
    "### Format challange noch offen"
   ]
  },
  {
   "cell_type": "code",
   "execution_count": null,
   "id": "3d3a7f1c-92e2-4728-8b64-c2d5c899f7e4",
   "metadata": {
    "ExecuteTime": {
     "end_time": "2025-02-24T17:47:10.498745Z",
     "start_time": "2025-02-24T17:47:10.491978Z"
    }
   },
   "outputs": [],
   "source": [
    "filter_d = {\"year\": {\"In\": [2021, 2022]}, \"revenue\": {\"Greater\": 200}, \"region\": {\"BeginsWith\": \"S\"}}\n",
    "#filter_d = {\"year\": {\"In\": [2021, 2022]} and \"revenue\": {\"Percent.Top\": 10,\"level\":[\"Customers\"]} and \"region\": {\"BeginsWith\": \"S\"}}"
   ]
  },
  {
   "cell_type": "markdown",
   "id": "c68bf082-c340-4184-8a60-356d7ee2b5dc",
   "metadata": {},
   "source": [
    "## interpret AI report definition. Filter only"
   ]
  },
  {
   "cell_type": "code",
   "execution_count": 8,
   "id": "c09fca36-902b-4ad6-8d56-3e3cecd26c43",
   "metadata": {
    "ExecuteTime": {
     "end_time": "2025-02-24T17:47:22.538668Z",
     "start_time": "2025-02-24T17:47:20.239653Z"
    }
   },
   "outputs": [
    {
     "name": "stdout",
     "output_type": "stream",
     "text": [
      "Year\n",
      "Year\n",
      "OlapCube object named: 'obj_prp_rel' with ID: '1F0C564A40101C08ABF602AAB81B2324'\n",
      "Warning: Object type mismatch. Object with provided ID: '1F0C564A40101C08ABF602AAB81B2324' is not an OlapCube but an instance of: 'SUPER_CUBE'.\n"
     ]
    },
    {
     "name": "stderr",
     "output_type": "stream",
     "text": [
      "                                                  "
     ]
    },
    {
     "name": "stdout",
     "output_type": "stream",
     "text": [
      "OlapCube object named: 'attribute_form_elements' with ID: 'B0A4AFCB4F8B53B4EB677D89B7A85CF0'\n"
     ]
    },
    {
     "name": "stderr",
     "output_type": "stream",
     "text": [
      "\r"
     ]
    },
    {
     "name": "stdout",
     "output_type": "stream",
     "text": [
      "Warning: Object type mismatch. Object with provided ID: 'B0A4AFCB4F8B53B4EB677D89B7A85CF0' is not an OlapCube but an instance of: 'SUPER_CUBE'.\n"
     ]
    },
    {
     "name": "stderr",
     "output_type": "stream",
     "text": [
      "                                                  "
     ]
    },
    {
     "name": "stdout",
     "output_type": "stream",
     "text": [
      "Call Center\n",
      "Call Center\n",
      "OlapCube object named: 'obj_prp_rel' with ID: '1F0C564A40101C08ABF602AAB81B2324'\n"
     ]
    },
    {
     "name": "stderr",
     "output_type": "stream",
     "text": [
      "\r"
     ]
    },
    {
     "name": "stdout",
     "output_type": "stream",
     "text": [
      "Warning: Object type mismatch. Object with provided ID: '1F0C564A40101C08ABF602AAB81B2324' is not an OlapCube but an instance of: 'SUPER_CUBE'.\n"
     ]
    },
    {
     "name": "stderr",
     "output_type": "stream",
     "text": [
      "                                                  "
     ]
    },
    {
     "name": "stdout",
     "output_type": "stream",
     "text": [
      "OlapCube object named: 'att_form_def' with ID: '870C97DA4303C51097C4068CE4DB6C4D'\n"
     ]
    },
    {
     "name": "stderr",
     "output_type": "stream",
     "text": [
      "\r"
     ]
    },
    {
     "name": "stdout",
     "output_type": "stream",
     "text": [
      "Warning: Object type mismatch. Object with provided ID: '870C97DA4303C51097C4068CE4DB6C4D' is not an OlapCube but an instance of: 'SUPER_CUBE'.\n"
     ]
    },
    {
     "name": "stderr",
     "output_type": "stream",
     "text": [
      "                                                  "
     ]
    },
    {
     "name": "stdout",
     "output_type": "stream",
     "text": [
      "Revenue\n",
      "Revenue\n",
      "OlapCube object named: 'obj_prp_rel' with ID: '1F0C564A40101C08ABF602AAB81B2324'\n"
     ]
    },
    {
     "name": "stderr",
     "output_type": "stream",
     "text": [
      "\r"
     ]
    },
    {
     "name": "stdout",
     "output_type": "stream",
     "text": [
      "Warning: Object type mismatch. Object with provided ID: '1F0C564A40101C08ABF602AAB81B2324' is not an OlapCube but an instance of: 'SUPER_CUBE'.\n"
     ]
    },
    {
     "name": "stderr",
     "output_type": "stream",
     "text": [
      "                                                  \r"
     ]
    },
    {
     "data": {
      "text/plain": [
       "[{'id': '1F21042E4FC08886A9D7E4920CA4EC59',\n",
       "  'type': 'EXPRESSION',\n",
       "  'answers': {'expression': {'operator': 'And',\n",
       "    'operands': [{'operator': 'AND',\n",
       "      'operands': [{'operator': 'In',\n",
       "        'operands': [{'type': 'form',\n",
       "          'attribute': {'id': '8D679D5111D3E4981000E787EC6DE8A4'},\n",
       "          'form': {'id': '45C11FA478E745FEA08D781CEA190FE5'}},\n",
       "         {'type': 'constants',\n",
       "          'dataType': 'Numeric',\n",
       "          'values': ['2021', '2022']}]},\n",
       "       {'operator': 'Equals',\n",
       "        'operands': [{'type': 'form',\n",
       "          'attribute': {'id': '8D679D3511D3E4981000E787EC6DE8A4'},\n",
       "          'form': {'id': 'CCFBE2A5EADB4F50941FB879CCF1721C'}},\n",
       "         {'type': 'constant', 'dataType': 'Char', 'value': 'Atlanta'}]},\n",
       "       {'operator': 'Equals',\n",
       "        'operands': [{'type': 'form',\n",
       "          'attribute': {'id': '8D679D3511D3E4981000E787EC6DE8A4'},\n",
       "          'form': {'id': '035E890A4157E9828414E8A0E13E2998'}},\n",
       "         {'type': 'constant', 'dataType': 'Char', 'value': 'Atlanta'}]}]}]}}},\n",
       " {'id': '14B57F1F46127BC6E6F746888BC3C7CB',\n",
       "  'type': 'EXPRESSION',\n",
       "  'answers': {'expression': {'operator': 'AND',\n",
       "    'operands': [{'operator': 'Greater',\n",
       "      'operands': [{'type': 'metric',\n",
       "        'id': '4C05177011D3E877C000B3B2D86C964F'},\n",
       "       {'type': 'constant', 'dataType': 'Real', 'value': 200}],\n",
       "      'level': {'type': 'default'}}]}}}]"
      ]
     },
     "execution_count": 8,
     "metadata": {},
     "output_type": "execute_result"
    }
   ],
   "source": [
    "ai_prp_filt_ans_d=i_run_chat_request.bld_AI_filt_prp_ans(conn,vector_store=i_keyword_processor,filter_d=filter_d)\n",
    "merged_filt_prp_l=i_run_chat_request.merge_exp_prp_ans_l(ai_prp_filt_ans_d)\n",
    "merged_filt_prp_l"
   ]
  },
  {
   "cell_type": "markdown",
   "id": "881e2023-894e-49a0-a30d-46fdc90feebf",
   "metadata": {},
   "source": [
    "## parse object prompts for temple definition"
   ]
  },
  {
   "cell_type": "code",
   "execution_count": 9,
   "id": "b53b0454-cb4b-4d1b-ae88-25bb16dd2084",
   "metadata": {
    "ExecuteTime": {
     "end_time": "2025-02-24T17:47:29.470024Z",
     "start_time": "2025-02-24T17:47:28.925411Z"
    }
   },
   "outputs": [
    {
     "name": "stdout",
     "output_type": "stream",
     "text": [
      "OlapCube object named: 'obj_prp_rel' with ID: '1F0C564A40101C08ABF602AAB81B2324'\n",
      "Warning: Object type mismatch. Object with provided ID: '1F0C564A40101C08ABF602AAB81B2324' is not an OlapCube but an instance of: 'SUPER_CUBE'.\n"
     ]
    },
    {
     "name": "stderr",
     "output_type": "stream",
     "text": [
      "                                                  \r"
     ]
    },
    {
     "data": {
      "text/plain": [
       "[{'id': '2AF7E8744FE8F3FEA97110AC3A3AA5EF',\n",
       "  'type': 'OBJECTS',\n",
       "  'answers': [{'id': '8D679D3511D3E4981000E787EC6DE8A4', 'type': 'attribute'},\n",
       "   {'id': '8D679D3711D3E4981000E787EC6DE8A4', 'type': 'attribute'}]},\n",
       " {'id': '6BB3C88A44CF937F0770B4BE22E86118',\n",
       "  'type': 'OBJECTS',\n",
       "  'answers': [{'id': '4C05177011D3E877C000B3B2D86C964F', 'type': 'metric'},\n",
       "   {'id': '4C051DB611D3E877C000B3B2D86C964F', 'type': 'metric'}]}]"
      ]
     },
     "execution_count": 9,
     "metadata": {},
     "output_type": "execute_result"
    }
   ],
   "source": [
    "obj_prp_ans_l=i_run_chat_request.bld_ai_obj_ans_prp(conn,json_t_d )\n",
    "obj_prp_ans_l  "
   ]
  },
  {
   "cell_type": "code",
   "execution_count": 10,
   "id": "95cf7273-d54a-43dd-b3b9-6ebe4c770fd5",
   "metadata": {
    "ExecuteTime": {
     "end_time": "2025-02-24T17:47:53.647595Z",
     "start_time": "2025-02-24T17:47:53.638924Z"
    }
   },
   "outputs": [
    {
     "data": {
      "text/plain": [
       "'{\"prompts\": [{\"id\": \"1F21042E4FC08886A9D7E4920CA4EC59\", \"type\": \"EXPRESSION\", \"answers\": {\"expression\": {\"operator\": \"And\", \"operands\": [{\"operator\": \"AND\", \"operands\": [{\"operator\": \"In\", \"operands\": [{\"type\": \"form\", \"attribute\": {\"id\": \"8D679D5111D3E4981000E787EC6DE8A4\"}, \"form\": {\"id\": \"45C11FA478E745FEA08D781CEA190FE5\"}}, {\"type\": \"constants\", \"dataType\": \"Numeric\", \"values\": [\"2021\", \"2022\"]}]}, {\"operator\": \"Equals\", \"operands\": [{\"type\": \"form\", \"attribute\": {\"id\": \"8D679D3511D3E4981000E787EC6DE8A4\"}, \"form\": {\"id\": \"CCFBE2A5EADB4F50941FB879CCF1721C\"}}, {\"type\": \"constant\", \"dataType\": \"Char\", \"value\": \"Atlanta\"}]}, {\"operator\": \"Equals\", \"operands\": [{\"type\": \"form\", \"attribute\": {\"id\": \"8D679D3511D3E4981000E787EC6DE8A4\"}, \"form\": {\"id\": \"035E890A4157E9828414E8A0E13E2998\"}}, {\"type\": \"constant\", \"dataType\": \"Char\", \"value\": \"Atlanta\"}]}]}]}}}, {\"id\": \"14B57F1F46127BC6E6F746888BC3C7CB\", \"type\": \"EXPRESSION\", \"answers\": {\"expression\": {\"operator\": \"AND\", \"operands\": [{\"operator\": \"Greater\", \"operands\": [{\"type\": \"metric\", \"id\": \"4C05177011D3E877C000B3B2D86C964F\"}, {\"type\": \"constant\", \"dataType\": \"Real\", \"value\": 200}], \"level\": {\"type\": \"default\"}}]}}}, {\"id\": \"2AF7E8744FE8F3FEA97110AC3A3AA5EF\", \"type\": \"OBJECTS\", \"answers\": [{\"id\": \"8D679D3511D3E4981000E787EC6DE8A4\", \"type\": \"attribute\"}, {\"id\": \"8D679D3711D3E4981000E787EC6DE8A4\", \"type\": \"attribute\"}]}, {\"id\": \"6BB3C88A44CF937F0770B4BE22E86118\", \"type\": \"OBJECTS\", \"answers\": [{\"id\": \"4C05177011D3E877C000B3B2D86C964F\", \"type\": \"metric\"}, {\"id\": \"4C051DB611D3E877C000B3B2D86C964F\", \"type\": \"metric\"}]}]}'"
      ]
     },
     "execution_count": 10,
     "metadata": {},
     "output_type": "execute_result"
    }
   ],
   "source": [
    "merged_filt_prp_l.extend(obj_prp_ans_l)\n",
    "\n",
    "prompt_answ=i_prompts.frame_prp(prp_ans=merged_filt_prp_l) \n",
    "prompt_answ"
   ]
  },
  {
   "cell_type": "code",
   "execution_count": 11,
   "id": "78785d10-3166-46ac-8689-082252016ee4",
   "metadata": {
    "ExecuteTime": {
     "end_time": "2025-02-24T17:48:02.061337Z",
     "start_time": "2025-02-24T17:47:58.883078Z"
    }
   },
   "outputs": [
    {
     "name": "stdout",
     "output_type": "stream",
     "text": [
      "Report object named: 'dyn_prompt_page_botstat' with ID: 'C731B12148180FDA527FB5BCE95E618E'\n"
     ]
    },
    {
     "name": "stderr",
     "output_type": "stream",
     "text": [
      "                                                    \r"
     ]
    },
    {
     "data": {
      "text/html": [
       "<div>\n",
       "<style scoped>\n",
       "    .dataframe tbody tr th:only-of-type {\n",
       "        vertical-align: middle;\n",
       "    }\n",
       "\n",
       "    .dataframe tbody tr th {\n",
       "        vertical-align: top;\n",
       "    }\n",
       "\n",
       "    .dataframe thead th {\n",
       "        text-align: right;\n",
       "    }\n",
       "</style>\n",
       "<table border=\"1\" class=\"dataframe\">\n",
       "  <thead>\n",
       "    <tr style=\"text-align: right;\">\n",
       "      <th></th>\n",
       "      <th>Category</th>\n",
       "      <th>Call Center@DESC</th>\n",
       "      <th>Call Center@Hyperlink</th>\n",
       "      <th>Profit</th>\n",
       "      <th>Revenue</th>\n",
       "    </tr>\n",
       "  </thead>\n",
       "  <tbody>\n",
       "  </tbody>\n",
       "</table>\n",
       "</div>"
      ],
      "text/plain": [
       "Empty DataFrame\n",
       "Columns: [Category, Call Center@DESC, Call Center@Hyperlink, Profit, Revenue]\n",
       "Index: []"
      ]
     },
     "execution_count": 11,
     "metadata": {},
     "output_type": "execute_result"
    }
   ],
   "source": [
    "ai_rep_name=\"dyn_prompt_page_botstat\"\n",
    "report_id=\"25D40AD444B6D51B333021ADFB219501\"\n",
    "#report_id=\"29FBB4884282ED7203AFD2B247C57688\"\n",
    "\n",
    "rep_id=i_run_chat_request.save_AI_rep(conn=conn,report_id=report_id\n",
    "                                  ,prompt_answ=prompt_answ\n",
    "                                  ,ai_rep_name=ai_rep_name\n",
    "                                  ,ai_rep_folder_id=ai_rep_folder_id)\n",
    "new_rep_id=rep_id.json()[\"id\"]\n",
    "instance_id = i_rep.open_Instance(conn=conn, report_id=new_rep_id)\n",
    "df=i_rep.report_df(conn=conn, report_id=new_rep_id, instance_id=instance_id)\n",
    "df"
   ]
  },
  {
   "cell_type": "code",
   "execution_count": 12,
   "id": "63405eb8-18e6-4873-9b22-1b1ca9817327",
   "metadata": {
    "ExecuteTime": {
     "end_time": "2025-02-24T17:48:07.465378Z",
     "start_time": "2025-02-24T17:48:07.453564Z"
    }
   },
   "outputs": [
    {
     "name": "stdout",
     "output_type": "stream",
     "text": [
      "http://85.214.60.83:8080/MicroStrategy/servlet/mstrWeb?Server=85.214.60.83&Project=MicroStrategy+Tutorial&evt=4001&src=mstrWeb.4001&reportViewMode=1&reportID=C731B12148180FDA527FB5BCE95E618E&currentViewMedia=2\n"
     ]
    },
    {
     "data": {
      "text/html": [
       "<a href=http://85.214.60.83:8080/MicroStrategy/servlet/mstrWeb?Server=85.214.60.83&Project=MicroStrategy+Tutorial&evt=4001&src=mstrWeb.4001&reportViewMode=1&reportID=C731B12148180FDA527FB5BCE95E618E&currentViewMedia=2 target=\"_blank\">Jump to MSTR Web</a>"
      ],
      "text/plain": [
       "<IPython.core.display.HTML object>"
      ]
     },
     "execution_count": 12,
     "metadata": {},
     "output_type": "execute_result"
    }
   ],
   "source": [
    "ai_rep_name=\"dyn_prompt_page_botstat\"\n",
    "report_id=\"25D40AD444B6D51B333021ADFB219501\"\n",
    "#report_id=\"29FBB4884282ED7203AFD2B247C57688\"\n",
    "\n",
    "rep_id=i_run_chat_request.save_AI_rep(conn=conn,report_id=report_id\n",
    "                                  ,prompt_answ=prompt_answ\n",
    "                                  ,ai_rep_name=ai_rep_name\n",
    "                                  ,promptOption =\"filterAndTemplate\"\n",
    "                                  ,ai_rep_folder_id=ai_rep_folder_id)\n",
    "new_rep_id=rep_id.json()[\"id\"]\n",
    "link=i_rep.web_base_url(conn=conn,report_id=new_rep_id)\n",
    "HTML(link)"
   ]
  },
  {
   "cell_type": "code",
   "execution_count": null,
   "id": "428f4964-f5e1-4dc4-987a-b3dda8de347a",
   "metadata": {
    "ExecuteTime": {
     "end_time": "2025-02-24T18:00:38.432804Z",
     "start_time": "2025-02-24T18:00:38.038979Z"
    }
   },
   "outputs": [],
   "source": [
    "link=i_rep.bld_rep_library_url(conn=conn,report_id=new_rep_id)\n",
    "HTML(link)"
   ]
  },
  {
   "cell_type": "code",
   "execution_count": null,
   "id": "535d4edf-6952-4159-b04f-f9a23b71a3df",
   "metadata": {
    "ExecuteTime": {
     "end_time": "2025-02-24T18:00:56.064853Z",
     "start_time": "2025-02-24T18:00:55.987886Z"
    }
   },
   "outputs": [],
   "source": [
    "print(i_rep.get_open_prp_stat(conn=conn, report_id=report_id, instance_id=instance_id))\n"
   ]
  },
  {
   "cell_type": "code",
   "execution_count": null,
   "id": "f59bd864-4d43-4057-9bf3-6ceb8fe27316",
   "metadata": {},
   "outputs": [],
   "source": [
    "from mstrio.api import reports\n",
    "\n",
    "report_ds"
   ]
  },
  {
   "cell_type": "code",
   "execution_count": null,
   "id": "2e6db0d9-ba51-4aa2-b032-23920c21c2fc",
   "metadata": {},
   "outputs": [],
   "source": [
    "report_ds.json()"
   ]
  },
  {
   "cell_type": "code",
   "execution_count": null,
   "id": "581816d3-51cf-4d5a-8e3c-c49906b48e0a",
   "metadata": {},
   "outputs": [],
   "source": [
    "conn.base_url"
   ]
  },
  {
   "cell_type": "code",
   "execution_count": null,
   "id": "63efc35c-a90a-47d1-94bd-f69789d680d3",
   "metadata": {},
   "outputs": [],
   "source": [
    "dir(conn)"
   ]
  },
  {
   "cell_type": "code",
   "execution_count": null,
   "id": "9db36983-2f50-417c-8f18-429335041c2c",
   "metadata": {},
   "outputs": [],
   "source": [
    "\n",
    "extract_server_port(base_url=conn.base_url)"
   ]
  },
  {
   "cell_type": "code",
   "execution_count": null,
   "id": "97039c2b-5f52-4412-8169-64199f1c9c22",
   "metadata": {},
   "outputs": [],
   "source": [
    "url_parts = conn.base_url.split(\"/\") \n",
    "server=url_parts[2].split(\":\")\n",
    "server[0]"
   ]
  },
  {
   "cell_type": "code",
   "execution_count": null,
   "id": "dffe6fa2-38c4-4fa8-8c9b-1f45a828e68d",
   "metadata": {},
   "outputs": [],
   "source": [
    "conn.project_name.replace(\" \",\"+\")"
   ]
  },
  {
   "cell_type": "code",
   "execution_count": null,
   "id": "5fc397b6-bd2e-42c2-b75a-27bd73db53b4",
   "metadata": {},
   "outputs": [],
   "source": []
  }
 ],
 "metadata": {
  "kernelspec": {
   "display_name": "Python 3 (ipykernel)",
   "language": "python",
   "name": "python3"
  },
  "language_info": {
   "codemirror_mode": {
    "name": "ipython",
    "version": 3
   },
   "file_extension": ".py",
   "mimetype": "text/x-python",
   "name": "python",
   "nbconvert_exporter": "python",
   "pygments_lexer": "ipython3",
   "version": "3.12.7"
  }
 },
 "nbformat": 4,
 "nbformat_minor": 5
}
