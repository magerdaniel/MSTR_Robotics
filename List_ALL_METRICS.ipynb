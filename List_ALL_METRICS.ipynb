{
  "cells": [
    {
      "cell_type": "code",
      "execution_count": null,
      "metadata": {
        "id": "9-9rLoh5cuBY"
      },
      "outputs": [],
      "source": [
        "!pip install mstrio-py==11.3.4.101\n",
        "import pdb\n",
        "import mstrio\n",
        "from mstrio import connection\n",
        "from mstrio import api\n",
        "from mstrio.api import browsing"
      ]
    },
    {
      "cell_type": "code",
      "execution_count": null,
      "metadata": {
        "id": "cRjwNA19c3r6"
      },
      "outputs": [],
      "source": [
        "base_url=\"https://mstr.dwapplications.com:8443/MicroStrategyLibrary/api/\"\n",
        "#MicroStrategy Tutorial\n",
        "ldprj='5B30C5AB11E9C111DD5D0080EFA5420F'\n",
        "username='hacker_admin'\n",
        "password='h4cker@!'"
      ]
    },
    {
      "cell_type": "code",
      "execution_count": null,
      "metadata": {
        "colab": {
          "base_uri": "https://localhost:8080/"
        },
        "id": "L0YD5OmMc3-k",
        "outputId": "89f6f52d-3441-4f10-a775-e62bb10d2dd5"
      },
      "outputs": [
        {
          "output_type": "stream",
          "name": "stdout",
          "text": [
            "Connection to MicroStrategy Intelligence Server has been established.\n"
          ]
        }
      ],
      "source": [
        "conn=connection.Connection(base_url=base_url,username=username,password=password,project_id=ldprj)"
      ]
    },
    {
      "cell_type": "code",
      "execution_count": null,
      "metadata": {
        "id": "zhJpVt2Ddo-4"
      },
      "outputs": [],
      "source": [
        "metric_search=browsing.store_search_instance(conn,object_types=4,project_id=ldprj)"
      ]
    },
    {
      "cell_type": "code",
      "execution_count": null,
      "metadata": {
        "id": "CMDFSvg0edbc"
      },
      "outputs": [],
      "source": [
        "metric_list=browsing.get_search_results(conn,metric_search.json()[\"id\"],project_id=ldprj)"
      ]
    },
    {
      "cell_type": "code",
      "execution_count": null,
      "metadata": {
        "id": "pdvPywededs3"
      },
      "outputs": [],
      "source": [
        "o=api.objects\n",
        "all_metric_def=[]\n",
        "for m in  metric_list.json():\n",
        "  m_def=[]    #clear the last filter definition\n",
        "  m_def.append(m[\"id\"])   # adds the filter_guid\n",
        "  ol=o.get_object_info(conn,m[\"id\"],4)\n",
        "  #print(ol.json())\n",
        "  try:\n",
        "    m_def.append(ol.json()[\"name\"])\n",
        "    m_def.append(ol.json()[\"description\"])\n",
        "    print(m_def)\n",
        "  except:\n",
        "    m_def.append(\"\")\n",
        "    print(m_def)\n",
        "  all_metric_def.append(m_def)\n",
        "\n",
        "print(all_metric_def)"
      ]
    },
    {
      "cell_type": "code",
      "execution_count": null,
      "metadata": {
        "colab": {
          "base_uri": "https://localhost:8080/"
        },
        "id": "KoI9NJtOzDFb",
        "outputId": "440dcf6a-e54a-400b-de7d-520253ffced0"
      },
      "outputs": [
        {
          "output_type": "stream",
          "name": "stdout",
          "text": [
            "Connection to MicroStrategy Intelligence Server has been closed\n"
          ]
        }
      ],
      "source": [
        "conn.close()"
      ]
    },
    {
      "cell_type": "code",
      "execution_count": null,
      "metadata": {
        "id": "gWQ2jqtZBba5"
      },
      "outputs": [],
      "source": [
        ""
      ]
    }
  ],
  "metadata": {
    "colab": {
      "name": "List_ALL_METRICS.ipynb",
      "provenance": [],
      "collapsed_sections": []
    },
    "kernelspec": {
      "display_name": "Python 3",
      "name": "python3"
    },
    "language_info": {
      "name": "python"
    }
  },
  "nbformat": 4,
  "nbformat_minor": 0
}