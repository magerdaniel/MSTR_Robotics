{
 "cells": [
  {
   "cell_type": "code",
   "execution_count": null,
   "id": "2315927e",
   "metadata": {},
   "outputs": [],
   "source": [
    "import requests\n",
    "import json\n",
    "from mstrio.connection import Connection\n",
    "from mstrio.api import reports\n",
    "from mstrio.project_objects import Report\n",
    "\n",
    "\n",
    "def open_Instance(conn, report_id):\n",
    "    rep_instance = reports.report_instance(connection=conn, report_id=report_id)\n",
    "    return rep_instance.json()[\"instanceId\"]\n",
    "\n",
    "def report_df(conn, report_id, instance_id):\n",
    "    i_po_Report = Report(connection=conn, id=report_id, instance_id=instance_id)\n",
    "    return i_po_Report.to_dataframe()\n",
    "\n",
    "def get_report_sql(conn,report_id,instance_id):\n",
    "    url=f'{conn.base_url}/api/v2/reports/{report_id}/instances/{instance_id}/sqlView'\n",
    "    rep_sql=conn.get(url)\n",
    "    return rep_sql\n"
   ]
  },
  {
   "cell_type": "code",
   "execution_count": null,
   "id": "73c3bf80",
   "metadata": {},
   "outputs": [],
   "source": [
    "base_url=\"http:/yourServer/MicroStrategyLibrary\"\n",
    "username=\"yourUser\"\n",
    "password=\"\"\n",
    "\n",
    "project_id=\"B7CA92F04B9FAE8D941C3E9B7E0CD754\"\n",
    "sec_user_report_id=\"C4FF6CF34933EF4B3B1D798D02D4FB36\"\n",
    "\n",
    "\n",
    "#conn=get_conn(base_url,project_id=project_id,username=username,password=password)\n",
    "conn = Connection(base_url=base_url,username=username,password=password,project_id=project_id)\n",
    "conn.headers['Content-type'] = \"application/json\""
   ]
  },
  {
   "cell_type": "code",
   "execution_count": null,
   "id": "8c64f4d0",
   "metadata": {},
   "outputs": [],
   "source": [
    "instance_id=open_Instance(conn=conn, report_id=sec_user_report_id)\n",
    "pa_rep_df=report_df(conn=conn, report_id=sec_user_report_id, instance_id=instance_id)\n",
    "pa_rep_df"
   ]
  },
  {
   "cell_type": "code",
   "execution_count": null,
   "id": "b0b0e38f",
   "metadata": {},
   "outputs": [],
   "source": [
    "SQL_resp=get_report_sql(conn=conn,report_id=sec_user_report_id,instance_id=instance_id)\n",
    "sql_t=SQL_resp.json()\n",
    "query=sql_t[\"sqlStatement\"]\n",
    "\n",
    "readable_query = query.replace('\\t', '    ').replace('\\n', '\\n')\n",
    "\n",
    "# Print the formatted query\n",
    "print(readable_query)"
   ]
  }
 ],
 "metadata": {
  "kernelspec": {
   "display_name": "Python 3 (ipykernel)",
   "language": "python",
   "name": "python3"
  },
  "language_info": {
   "codemirror_mode": {
    "name": "ipython",
    "version": 3
   },
   "file_extension": ".py",
   "mimetype": "text/x-python",
   "name": "python",
   "nbconvert_exporter": "python",
   "pygments_lexer": "ipython3",
   "version": "3.10.11"
  }
 },
 "nbformat": 4,
 "nbformat_minor": 5
}
