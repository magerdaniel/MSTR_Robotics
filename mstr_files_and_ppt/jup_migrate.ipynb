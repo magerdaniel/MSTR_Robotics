{
 "cells": [
  {
   "cell_type": "markdown",
   "id": "b4b30316-cab9-4f69-9e2b-595128341a5d",
   "metadata": {},
   "source": [
    "# MicroStrateg(P)ython Migration"
   ]
  },
  {
   "cell_type": "markdown",
   "id": "b247d035-b60b-46ba-9113-5a4c6e8e3e33",
   "metadata": {},
   "source": [
    "## Load libraries"
   ]
  },
  {
   "cell_type": "code",
   "execution_count": 1,
   "id": "5c984d93",
   "metadata": {
    "ExecuteTime": {
     "end_time": "2024-12-22T10:57:44.104300Z",
     "start_time": "2024-12-22T10:57:35.566443Z"
    }
   },
   "outputs": [],
   "source": [
    "import json\n",
    "from mstrio.object_management import folder\n",
    "import pandas as pd\n",
    "from time import sleep\n",
    "import shutil\n",
    "import os\n",
    "from mstrio.connection import Connection\n",
    "from mstrio.object_management.migration import (\n",
    "    PackageType,\n",
    "    Migration,\n",
    "    PackageConfig,\n",
    "    PackageSettings\n",
    ")\n",
    "\n",
    "from mstrio.object_management.migration.package import (\n",
    "    Action,\n",
    "    ImportStatus,\n",
    "    PackageStatus,\n",
    "    ValidationStatus,\n",
    ")\n",
    "\n",
    "\n",
    "def bld_mig_list_from_sh_fold(conn, folder_id,action= \"USE_EXISTING\",include_dependents= False ):\n",
    "\n",
    "    #obj_l = get_folder_obj_l(conn=conn, folder_id=folder_id)\n",
    "    i_folder = folder.Folder(connection=conn, id=folder_id)\n",
    "    obj_l = i_folder.get_contents(to_dictionary=True)\n",
    "    \n",
    "    obj_det_l=[]\n",
    "    for obj_d in obj_l:\n",
    "        if obj_d[\"type\"] == 18:\n",
    "            obj_det_d = {}\n",
    "            obj_det_d[\"id\"] = obj_d[\"target_info\"][\"id\"]\n",
    "            obj_det_d[\"type\"] = obj_d[\"target_info\"][\"type\"]\n",
    "            obj_det_d[\"action\"] = action\n",
    "            obj_det_d[\"include_dependents\"] = include_dependents\n",
    "            #obj_det_d[\"sub_type_bez\"] = ObjectSubTypes(obj_d[\"target_info\"][\"subtype\"]).name\n",
    "            obj_det_l.append(obj_det_d.copy())\n",
    "\n",
    "    return obj_det_l\n"
   ]
  },
  {
   "cell_type": "markdown",
   "id": "aefe0a6d-b03e-47c7-a285-f6f58c4f0c97",
   "metadata": {},
   "source": [
    "## Configure Migration"
   ]
  },
  {
   "cell_type": "code",
   "execution_count": 2,
   "id": "bfbddd46-6040-4dbd-9aae-96b4c25ba79b",
   "metadata": {
    "ExecuteTime": {
     "end_time": "2024-12-22T10:57:45.303029Z",
     "start_time": "2024-12-22T10:57:44.175650Z"
    }
   },
   "outputs": [],
   "source": [
    "#define Package\n",
    "usr_migration_folder_name=\"Daniel_Migration\"\n",
    "usr_package_folder_name=\"2024123_Demo\"\n",
    "\n",
    "\n",
    "short_cut_folder_id=\"986E6D1A427030A710A0E68F74290482\"\n",
    "\n",
    "# Connect Projects\n",
    "\n",
    "source_username=\"Administrator\"\n",
    "source_password=\"\"\n",
    "source_project_id=\"B7CA92F04B9FAE8D941C3E9B7E0CD754\"\n",
    "source_base_url=\"http://00.000.00.00:8080:8080/MicroStrategyLibrary\"\n",
    "\n",
    "target_username=\"Administrator\"\n",
    "target_password=\"\"\n",
    "target_project_id=\"00F3103E41FF3743A057C3B5313595B7\"\n",
    "target_base_url=\"http://00.000.00.00:8080/MicroStrategyLibrary\"\n",
    "\n",
    "package_settings = PackageSettings(\n",
    "    Action.FORCE_REPLACE,\n",
    "    PackageSettings.UpdateSchema.RECAL_TABLE_LOGICAL_SIZE,\n",
    "    PackageSettings.AclOnReplacingObjects.REPLACE,\n",
    "    PackageSettings.AclOnNewObjects.KEEP_ACL_AS_SOURCE_OBJECT,\n",
    ")"
   ]
  },
  {
   "cell_type": "markdown",
   "id": "89df8ea7-2a65-400e-baf5-3019c677d1f8",
   "metadata": {},
   "source": [
    "## Connect to projects"
   ]
  },
  {
   "cell_type": "code",
   "execution_count": 3,
   "id": "8081b0ea-1aa8-42ac-b085-d035e3b4050e",
   "metadata": {},
   "outputs": [
    {
     "name": "stdout",
     "output_type": "stream",
     "text": [
      "Connection to MicroStrategy Intelligence Server has been established.\n",
      "Connection to MicroStrategy Intelligence Server has been established.\n"
     ]
    },
    {
     "data": {
      "text/plain": [
       "'D:\\\\shared_drive\\\\MSTR_Migrations\\\\Daniel_Migration\\\\2024123_Demo\\\\'"
      ]
     },
     "execution_count": 3,
     "metadata": {},
     "output_type": "execute_result"
    }
   ],
   "source": [
    "source_conn = Connection(base_url=source_base_url,username=source_username,\n",
    "                  password=source_password,project_id=source_project_id)\n",
    "#source_conn.headers['Content-type'] = \"application/json\"\n",
    "\n",
    "target_conn = Connection(base_url=target_base_url,username=target_username,\n",
    "                  password=target_password,project_id=target_project_id)\n",
    "\n",
    "package_name=usr_package_folder_name\n",
    "mstr_mig_folder=source_conn.environment.storage_service.location \n",
    "migration_folder= source_conn.environment.storage_service.location  +\"\\\\\"+ usr_migration_folder_name +\"\\\\\"+ usr_package_folder_name + \"\\\\\"\n",
    "migration_folder\n"
   ]
  },
  {
   "cell_type": "markdown",
   "id": "965ed608-349f-4d99-95f3-c72bc5780839",
   "metadata": {},
   "source": [
    "## Create package"
   ]
  },
  {
   "cell_type": "code",
   "execution_count": 4,
   "id": "e4909718",
   "metadata": {
    "ExecuteTime": {
     "end_time": "2024-12-22T10:57:51.477084Z",
     "start_time": "2024-12-22T10:57:51.471525Z"
    }
   },
   "outputs": [
    {
     "name": "stdout",
     "output_type": "stream",
     "text": [
      "Folder object named: '2024123_Demo' with ID: '986E6D1A427030A710A0E68F74290482'\n",
      "Successfully started creation of migration object with ID: '06E4DA19FD6046C4BD87CDB1072BF8FB:8BA99F7FC4604C539A73D4ADDBCB4B9F'\n"
     ]
    },
    {
     "data": {
      "text/plain": [
       "PackageStatus.CREATED"
      ]
     },
     "execution_count": 4,
     "metadata": {},
     "output_type": "execute_result"
    }
   ],
   "source": [
    "\n",
    "package_content_info=bld_mig_list_from_sh_fold(conn=source_conn, folder_id=short_cut_folder_id,action= \"FORCE_REPLACE\",include_dependents= False)\n",
    "package_config = PackageConfig(\n",
    "    package_settings,  package_content_info # [ package_content_from_object]\n",
    ")\n",
    "\n",
    "my_obj_mig = Migration.create_object_migration(\n",
    "    connection=source_conn,\n",
    "    toc_view=package_config,\n",
    "    name=package_name,\n",
    "    project_id=source_conn.project_id,\n",
    ")\n",
    "\n",
    "while my_obj_mig.package_info.status == PackageStatus.CREATING:\n",
    "    sleep(2)\n",
    "    my_obj_mig.fetch()\n",
    "\n",
    "my_obj_mig.package_info.status"
   ]
  },
  {
   "cell_type": "markdown",
   "id": "3b0c933d-7879-459c-b660-7e034dbea291",
   "metadata": {
    "ExecuteTime": {
     "end_time": "2024-12-22T10:57:56.803661Z",
     "start_time": "2024-12-22T10:57:55.692356Z"
    }
   },
   "source": [
    "## Vaildate Package"
   ]
  },
  {
   "cell_type": "code",
   "execution_count": 5,
   "id": "3c73dd11-2f83-433f-9bb9-b231082ea5e1",
   "metadata": {},
   "outputs": [
    {
     "name": "stdout",
     "output_type": "stream",
     "text": [
      "Successfully triggered validation process for migration with ID: '06E4DA19FD6046C4BD87CDB1072BF8FB:8BA99F7FC4604C539A73D4ADDBCB4B9F'\n",
      "Validation(status=ValidationStatus.VALIDATED, progress=100.0, message='Success', creation_date=datetime.datetime(2024, 12, 22, 17, 40, 25, tzinfo=datetime.timezone.utc), last_update_date=None)\n"
     ]
    }
   ],
   "source": [
    "# Check migration validation status\n",
    "my_obj_mig.trigger_validation(\n",
    "    target_env=target_conn, target_project_name=target_conn.project_name\n",
    ")\n",
    "\n",
    "while my_obj_mig.validation.status == ValidationStatus.VALIDATING:\n",
    "    sleep(2)\n",
    "    my_obj_mig.fetch()\n",
    "\n",
    "\n",
    "print(my_obj_mig.validation)"
   ]
  },
  {
   "cell_type": "markdown",
   "id": "ea1adf26-535e-4780-9ad1-745a5697f9a3",
   "metadata": {},
   "source": [
    "## Move Migration Pack to migration folder"
   ]
  },
  {
   "cell_type": "code",
   "execution_count": 6,
   "id": "2eb1f0f5-073c-4cbf-a655-c5e1f6396355",
   "metadata": {
    "ExecuteTime": {
     "end_time": "2024-12-22T11:00:34.413954Z",
     "start_time": "2024-12-22T11:00:34.402095Z"
    }
   },
   "outputs": [
    {
     "name": "stdout",
     "output_type": "stream",
     "text": [
      "org_file: D:\\shared_drive\\MSTR_Migrations\\mstr\\shared\\migrations\\packages\\2024-12-22\\92207ABE1D7246B4A9774BB677987FE3.mmp\n",
      "migration folder: D:\\shared_drive\\MSTR_Migrations\\Daniel_Migration\\2024123_Demo\\92207ABE1D7246B4A9774BB677987FE3.mmp\n"
     ]
    }
   ],
   "source": [
    "package_file = mstr_mig_folder +\"/\" +my_obj_mig.package_info.storage.path\n",
    "package_file=os.path.normpath(package_file)\n",
    "my_obj_mig_path=shutil.move(package_file, migration_folder)\n",
    "\n",
    "print(\"org_file: \" +package_file)\n",
    "print(\"migration folder: \" +my_obj_mig_path)"
   ]
  },
  {
   "cell_type": "markdown",
   "id": "2d3b436e-cd9d-471c-ba7e-81efe5ddd51b",
   "metadata": {
    "ExecuteTime": {
     "end_time": "2024-12-22T11:00:18.823766Z",
     "start_time": "2024-12-22T11:00:18.357495Z"
    }
   },
   "source": [
    "\n",
    "## Trigger migration"
   ]
  },
  {
   "cell_type": "code",
   "execution_count": 7,
   "id": "7aa9d55f-223b-4d80-a163-aaf31ac0de9b",
   "metadata": {
    "ExecuteTime": {
     "end_time": "2024-12-22T10:58:23.410122Z",
     "start_time": "2024-12-22T10:58:21.899388Z"
    }
   },
   "outputs": [
    {
     "name": "stdout",
     "output_type": "stream",
     "text": [
      "Successfully started migration from file with ID: 'F02F806CFC4B4FEEB22D9CA91AB4B2F6:44DF6E0D101A4D46861B35F85BB0C122'.\n"
     ]
    },
    {
     "data": {
      "text/plain": [
       "ImportStatus.IMPORTED"
      ]
     },
     "execution_count": 7,
     "metadata": {},
     "output_type": "execute_result"
    }
   ],
   "source": [
    "from_file_mig = Migration.migrate_from_file(\n",
    "    connection=source_conn,\n",
    "    file_path=my_obj_mig_path,\n",
    "    package_type=PackageType.OBJECT,\n",
    "    name=\"object_mig_from_local_storage\",\n",
    "    target_project_name=target_conn.project_name,\n",
    ")\n",
    "\n",
    "while from_file_mig.import_info.status == ImportStatus.IMPORTING:\n",
    "    sleep(2)\n",
    "    from_file_mig.fetch()\n",
    "\n",
    "from_file_mig.import_info.status"
   ]
  },
  {
   "cell_type": "markdown",
   "id": "4a8e8a13-295a-4a95-8482-8bcc80bd2c4b",
   "metadata": {},
   "source": [
    "## Archive Migration"
   ]
  },
  {
   "cell_type": "markdown",
   "id": "e6ced9d6-c87f-4b8e-b29d-354c7a759b27",
   "metadata": {},
   "source": [
    "### move undo mmp file to migration folder"
   ]
  },
  {
   "cell_type": "code",
   "execution_count": 8,
   "id": "ba141b3e-012d-46b0-9175-837d3148d0d6",
   "metadata": {},
   "outputs": [
    {
     "name": "stdout",
     "output_type": "stream",
     "text": [
      "org_undo_file: D:\\shared_drive\\MSTR_Migrations/mstr/shared/migrations/undo/F02F806CFC4B4FEEB22D9CA91AB4B2F6/44DF6E0D101A4D46861B35F85BB0C122.mmp\n",
      "migration folder: D:\\shared_drive\\MSTR_Migrations\\Daniel_Migration\\2024123_Demo\\Undo.mmp\n"
     ]
    }
   ],
   "source": [
    "## move undo mmp to migration folder\n",
    "undo_source_file = mstr_mig_folder +\"/\" +from_file_mig.import_info.undo_storage.path\n",
    "package_file=os.path.normpath(package_file)\n",
    "new_undo_file=shutil.move(undo_source_file, migration_folder+\"Undo.mmp\")\n",
    "\n",
    "print(\"org_undo_file: \" +undo_source_file)\n",
    "print(\"migration folder: \" +new_undo_file)"
   ]
  },
  {
   "cell_type": "markdown",
   "id": "085182c9-2e4f-4650-a726-1343035c11f6",
   "metadata": {},
   "source": [
    "### store migrated objects to CSV file"
   ]
  },
  {
   "cell_type": "code",
   "execution_count": 9,
   "id": "afefecad-efb3-4f39-946f-9dacc82fe338",
   "metadata": {},
   "outputs": [
    {
     "data": {
      "text/html": [
       "<div>\n",
       "<style scoped>\n",
       "    .dataframe tbody tr th:only-of-type {\n",
       "        vertical-align: middle;\n",
       "    }\n",
       "\n",
       "    .dataframe tbody tr th {\n",
       "        vertical-align: top;\n",
       "    }\n",
       "\n",
       "    .dataframe thead th {\n",
       "        text-align: right;\n",
       "    }\n",
       "</style>\n",
       "<table border=\"1\" class=\"dataframe\">\n",
       "  <thead>\n",
       "    <tr style=\"text-align: right;\">\n",
       "      <th></th>\n",
       "      <th>id</th>\n",
       "      <th>type</th>\n",
       "      <th>action</th>\n",
       "      <th>include_dependents</th>\n",
       "    </tr>\n",
       "  </thead>\n",
       "  <tbody>\n",
       "    <tr>\n",
       "      <th>0</th>\n",
       "      <td>FBA328574EC126D4A38B51AFEF5D7856</td>\n",
       "      <td>4</td>\n",
       "      <td>FORCE_REPLACE</td>\n",
       "      <td>False</td>\n",
       "    </tr>\n",
       "    <tr>\n",
       "      <th>1</th>\n",
       "      <td>ACB99295488C76AA566DADAE2EC30FC5</td>\n",
       "      <td>4</td>\n",
       "      <td>FORCE_REPLACE</td>\n",
       "      <td>False</td>\n",
       "    </tr>\n",
       "  </tbody>\n",
       "</table>\n",
       "</div>"
      ],
      "text/plain": [
       "                                 id  type         action  include_dependents\n",
       "0  FBA328574EC126D4A38B51AFEF5D7856     4  FORCE_REPLACE               False\n",
       "1  ACB99295488C76AA566DADAE2EC30FC5     4  FORCE_REPLACE               False"
      ]
     },
     "execution_count": 9,
     "metadata": {},
     "output_type": "execute_result"
    }
   ],
   "source": [
    "package_content_df=pd.DataFrame(package_content_info)\n",
    "package_content_df.to_csv(migration_folder+\"package_content.csv\")\n",
    "package_content_df"
   ]
  },
  {
   "cell_type": "markdown",
   "id": "cc9cc34e-3f7c-4a56-bc39-920e030d0560",
   "metadata": {},
   "source": [
    "### save package & migration files"
   ]
  },
  {
   "cell_type": "code",
   "execution_count": 10,
   "id": "3217f5e8-b409-4c31-9e18-b1fcdabe7173",
   "metadata": {},
   "outputs": [],
   "source": [
    "file_path=migration_folder+\"package_info.txt\"\n",
    "with open(file_path, \"w\", encoding=\"utf-8\") as file:\n",
    "    file.write(str(my_obj_mig.package_info))\n",
    "\n",
    "file_path=migration_folder+\"migration_info.txt\"\n",
    "with open(file_path, \"w\", encoding=\"utf-8\") as file:\n",
    "    file.write(str(from_file_mig.import_info))\n"
   ]
  }
 ],
 "metadata": {
  "kernelspec": {
   "display_name": "Python 3 (ipykernel)",
   "language": "python",
   "name": "python3"
  },
  "language_info": {
   "codemirror_mode": {
    "name": "ipython",
    "version": 3
   },
   "file_extension": ".py",
   "mimetype": "text/x-python",
   "name": "python",
   "nbconvert_exporter": "python",
   "pygments_lexer": "ipython3",
   "version": "3.12.7"
  }
 },
 "nbformat": 4,
 "nbformat_minor": 5
}
