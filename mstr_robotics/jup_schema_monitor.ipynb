{
 "cells": [
  {
   "cell_type": "markdown",
   "id": "71baebb6",
   "metadata": {},
   "source": [
    "# MSTR - Robotics: Schema Monitor"
   ]
  },
  {
   "cell_type": "markdown",
   "id": "6c7432b3",
   "metadata": {},
   "source": [
    "### Start Notebook"
   ]
  },
  {
   "cell_type": "code",
   "execution_count": null,
   "id": "741e2786",
   "metadata": {},
   "outputs": [],
   "source": [
    "from mstr_robotics.mstr_classes import  get_conn ,mstr_global\n",
    "import pandas as pd\n",
    "import json\n",
    "from mstr_robotics._helper import msic,str_func \n",
    "#from mstrio.api import objects as api_obj\n",
    "from mstr_robotics.mstr_pandas import df_helper\n",
    "from mstr_robotics.report import cube,rep\n",
    "from mstr_robotics.read_out_prj_obj import read_schema,chk_usage,io_attributes\n",
    "\n",
    "\n",
    "i_msic=msic()\n",
    "i_rep=rep()\n",
    "i_str_func=str_func()\n",
    "i_cube=cube()\n",
    "i_chk_usage=chk_usage()\n",
    "i_df_helper=df_helper()\n",
    "i_read_schema=read_schema()\n",
    "run_prop_d={}\n",
    "\n",
    "\n",
    "#in my environment the PA project is on the same maschine\n",
    "\n",
    "username = \"Administrator\"\n",
    "password =\"\"\n",
    "server=\"\"\n",
    "port=\"8080\"\n",
    "\n",
    "project_id=\"B7CA92F04B9FAE8D941C3E9B7E0CD754\"\n",
    "\n",
    "base_url= \"http://\" + server + \":\" + port + \"/MicroStrategyLibrary/api\"\n",
    "pa_base_url= \"http://\" + server + \":\" + port + \"/MicroStrategyLibrary/api\"\n",
    "\n",
    "conn=get_conn(base_url=base_url,username=username,password=password)\n",
    "conn.select_project(project_id)\n",
    "           \n",
    "pa_conn=get_conn(base_url=pa_base_url,username=username,password=password)"
   ]
  },
  {
   "cell_type": "markdown",
   "id": "0c9213b6",
   "metadata": {},
   "source": [
    "### Set id's for underlying cubes"
   ]
  },
  {
   "cell_type": "code",
   "execution_count": null,
   "id": "c2937856",
   "metadata": {},
   "outputs": [],
   "source": [
    "#Schema information\n",
    "cbe_tbl_att_fct_id = \"226F8DFD4CBF59123D91C5A28E5CB27F\"\n",
    "cbe_att_form_exp_id = \"0C87612143983878A20FB4868B39666D\"\n",
    "cbe_fact_exp_id = \"8B40E68E45EC34D16232CEAE7A22789E\"\n",
    "cbe_table_id = \"DAB859BE48E2CB2A7D0D84AA796C1DBC\"\n",
    "\n",
    "# blended object and PA/EM information\n",
    "cbe_obj_depn_rep_col_usage_id = \"E105F5BE4FA52CAEE264648069D978B5\""
   ]
  },
  {
   "cell_type": "markdown",
   "id": "21a225f0",
   "metadata": {},
   "source": [
    "### read out schema table mappings"
   ]
  },
  {
   "cell_type": "code",
   "execution_count": null,
   "id": "bda94c06",
   "metadata": {},
   "outputs": [],
   "source": [
    "#read out the schema & builds a cube upload file for attributes, facts & table definitions\n",
    "\n",
    "schema_mappings_d=i_read_schema.table_mappings(conn=conn,run_prop_d=run_prop_d)\n",
    "att_form_exp_df=schema_mappings_d[\"att_form_exp_df\"]\n",
    "fact_exp_df=schema_mappings_d[\"fact_exp_df\"]\n",
    "table_df=schema_mappings_d[\"table_df\"]\n",
    "att_form_exp_d_l=[{\"df\":schema_mappings_d[\"att_form_exp_df\"],\"tbl_name\":\"att_form_exp_df\", \"update_policy\":\"Replace\"}]\n",
    "fact_exp_d_l=[{\"df\":schema_mappings_d[\"fact_exp_df\"],\"tbl_name\":\"fact_exp_df\", \"update_policy\":\"Replace\"}]\n",
    "table_d_l=[{\"df\":schema_mappings_d[\"table_df\"],\"tbl_name\":\"table_df\", \"update_policy\":\"Replace\"}]"
   ]
  },
  {
   "cell_type": "code",
   "execution_count": null,
   "id": "a297f5d5",
   "metadata": {},
   "outputs": [],
   "source": [
    "#sometimes it's easier to join the datasets outside of a dossier\n",
    "#here we build a primary key data set by joinning dataframes\n",
    "tbl_att_fct_df = pd.merge(table_df[[\"project_id\",\"table_id\", \"column_id\",\"physicalTable_id\",\"physicalTable_name\"]],\n",
    "                          att_form_exp_df[[\"project_id\", 'table_id', \"column_id\", \"attribute_id\", \"form_expressionId\"]],\n",
    "                          on=['project_id', 'table_id', 'column_id'], how='left')\n",
    "i_df_helper.clean_double_col(df=tbl_att_fct_df)\n",
    "tbl_att_fct_df = pd.merge(tbl_att_fct_df, \n",
    "                          fact_exp_df[[\"project_id\", \"column_id\",\"fact_id\",\"fact_expressionId\"]],\n",
    "                          on=['project_id', 'column_id'], how='left')\n",
    "i_df_helper.clean_double_col(df=tbl_att_fct_df)\n",
    "\n",
    "tbl_att_fct_d_l=[{\"df\":schema_mappings_d[\"tbl_att_fct_df\"],\"tbl_name\":\"tbl_att_fct_df\", \"update_policy\":\"Replace\"}]"
   ]
  },
  {
   "cell_type": "markdown",
   "id": "18a36e24",
   "metadata": {},
   "source": [
    "## report usage"
   ]
  },
  {
   "cell_type": "markdown",
   "id": "bf190016",
   "metadata": {},
   "source": [
    "### Platform Analytics"
   ]
  },
  {
   "cell_type": "code",
   "execution_count": null,
   "id": "67931da1",
   "metadata": {},
   "outputs": [],
   "source": [
    "pa_project_id=\"01770E1B45A0B84E88E5748B465719AD\"\n",
    "pa_project_element_id=\"7030185169415835648\" # here you see the element_id of MicroStrategy Tutorial in PA\n",
    "pa_conn.select_project(pa_project_id)\n",
    "prompt_answ=f'{{\"prompts\": [{{\"id\": \"EF66D49D40D0E799E1D1909A65085E97\", \"type\": \"ELEMENTS\",\"answers\":[{{\"id\": \"h{pa_project_element_id};3A0BE6C741DE7CDD4A4C01925B5A04E9\"}}]}} ]}}'\n",
    "\n",
    "print(\"Element Prompt Answer= \" + prompt_answ)"
   ]
  },
  {
   "cell_type": "code",
   "execution_count": null,
   "id": "93f653bd",
   "metadata": {},
   "outputs": [],
   "source": [
    "#report stats\n",
    "report_usage=\"BF03DD1443947C6192D0229B4A3D7EF8\"\n",
    "\n",
    "instance_id=i_rep.open_Instance(conn=pa_conn,report_id=report_usage)\n",
    "prp_resp=i_rep.set_inst_prompt_ans(conn=pa_conn,report_id=report_usage,instance_id=instance_id, prompt_answ=prompt_answ)\n",
    "rep_usage_df=i_rep.rep_to_dataframe(conn=pa_conn,report_id=report_usage,instance_id=instance_id)\n",
    "adjust_col_names_to_em = {\"project_id@ID\":\"project_id\", \"report_id@ID\":\"report_id\", \"year_id@ID\":\"year_id\"\n",
    "                          , \"month_id@ID\":\"month_id\"}\n",
    "report_usage_df.rename(columns=adjust_col_names_to_em, inplace=True)\n",
    "rep_usage_d_l=[{\"df\":rep_usage_df,\"tbl_name\":\"rep_usage_df\", \"update_policy\":\"Replace\"}]"
   ]
  },
  {
   "cell_type": "code",
   "execution_count": null,
   "id": "f8f26533",
   "metadata": {},
   "outputs": [],
   "source": [
    "# db views & column stats\n",
    "views_cols_usage=\"9A96A6474DB13EA45D4B96B4485463C8\"\n",
    "instance_id=i_rep.open_Instance(conn=pa_conn,report_id=views_cols_usage)\n",
    "prp_resp=i_rep.set_inst_prompt_ans(conn=pa_conn,report_id=report_usage,instance_id=instance_id, prompt_answ=prompt_answ)\n",
    "view_col_usage_df=i_rep.rep_to_dataframe(conn=pa_conn,report_id=views_cols_usage,instance_id=instance_id)\n",
    "adjust_col_names_to_em = {\"project_id@ID\":\"project_id\", \"report_id@ID\":\"report_id\", \"year_id@ID\":\"year_id\"\n",
    "                          , \"month_id@ID\":\"month_id\", \"db_table@GUID\":\"physicalTable_id\", \n",
    "                          \"column@Name\":\"column_name\",\"column@GUID\":\"column_id\"}\n",
    "view_col_usage_df.rename(columns=adjust_col_names_to_em, inplace=True)\n",
    "view_col_usage_d_l=[{\"df\":view_col_usage_df,\"tbl_name\":\"view_col_usage_df\", \"update_policy\":\"Replace\"}]"
   ]
  },
  {
   "cell_type": "markdown",
   "id": "fcb692bc",
   "metadata": {},
   "source": [
    "### Enterprise Manager Statistic tables"
   ]
  },
  {
   "cell_type": "code",
   "execution_count": null,
   "id": "84cf6dfb",
   "metadata": {},
   "outputs": [],
   "source": [
    "# report stats AND db views & column stats\n",
    "\n",
    "project_id=\"B7CA92F04B9FAE8D941C3E9B7E0CD754\"\n",
    "conn.select_project(project_id)\n",
    "views_cols_usage=\"9F5167F6406AA0E0BC72D7A8141CED4C\"\n",
    "report_usage=\"C1F2185F4610B81774334788348A8F31\"\n",
    "\n",
    "instance_id=i_rep.open_Instance(conn=conn,report_id=views_cols_usage)\n",
    "view_col_usage_df=i_rep.rep_to_dataframe(conn=conn,report_id=views_cols_usage,instance_id=instance_id)\n",
    "view_col_usage_df=i_df_helper.rem_att_id_forms(view_col_usage_df)\n",
    "\n",
    "instance_id=i_rep.open_Instance(conn=conn,report_id=report_usage)\n",
    "rep_usage_df=i_rep.rep_to_dataframe(conn=conn,report_id=report_usage,instance_id=instance_id)\n",
    "rep_usage_df=i_df_helper.rem_att_id_forms(rep_usage_df)\n",
    "\n",
    "rep_usage_d_l=[{\"df\":rep_usage_df,\"tbl_name\":\"rep_usage_df\", \"update_policy\":\"Replace\"}]\n",
    "view_col_usage_d_l=[{\"df\":view_col_usage_df,\"tbl_name\":\"view_col_usage_df\", \"update_policy\":\"Replace\"}]"
   ]
  },
  {
   "cell_type": "markdown",
   "id": "ca6fd464",
   "metadata": {},
   "source": [
    "## Object Information "
   ]
  },
  {
   "cell_type": "markdown",
   "id": "39d72d4c",
   "metadata": {},
   "source": [
    "### REST API search"
   ]
  },
  {
   "cell_type": "code",
   "execution_count": null,
   "id": "7e3b9ed1",
   "metadata": {},
   "outputs": [],
   "source": [
    "\n",
    "#advantage is very flexible & includes security\n",
    "#disadvantage: takes ages!!!!!\n",
    "\n",
    "obj_type_l=[\"3\"] #only check reports\n",
    "obj_depn_df =i_chk_usage.chk_by_obj_type(conn=conn #,project_id=project_id\n",
    "                          ,obj_type_l=obj_type_l, info_level = \"base_path\",mtdi_id=None\n",
    "                          ,count_only_fg=True,run_prop_d=run_prop_d)\n",
    "\n",
    "obj_depn_df.rename(columns={'id': 'report_id'}, inplace=True)\n",
    "obj_depn_d_l=[{\"df\":obj_depn_df,\"tbl_name\":\"obj_depn_df\", \"update_policy\":\"Replace\"}]\n",
    "\n",
    "#i_cube.upload_data(conn=conn,tbl_upd_dict=obj_depn_d_l, mtdi_id=cbe_obj_depn_id,cube_name=\"obj_depn\",folder_id=folder_id,force=True)"
   ]
  },
  {
   "cell_type": "markdown",
   "id": "f1fd27ff",
   "metadata": {},
   "source": [
    "### from sql server MD"
   ]
  },
  {
   "cell_type": "code",
   "execution_count": null,
   "id": "89ee7753",
   "metadata": {},
   "outputs": [],
   "source": [
    "#for the sample dossier pls. do not rund this\n",
    "#sql_server_md_free_form_rep=\"AB4F44E441A74CFD1FFFE2A348769E56\"\n",
    "#instance_id=i_rep.open_Instance(conn=conn,report_id=sql_server_md_free_form_rep)\n",
    "#sql_server_md_free_form_rep_df=i_rep.rep_to_dataframe(conn=conn,report_id=sql_server_md_free_form_rep,instance_id=instance_id)\n",
    "#obj_depn_d_l=[{\"df\":sql_server_md_free_form_rep_df,\"tbl_name\":\"obj_depn_df\", \"update_policy\":\"Replace\"}]"
   ]
  },
  {
   "cell_type": "markdown",
   "id": "d9d7b553",
   "metadata": {},
   "source": [
    "### Flag objects"
   ]
  },
  {
   "cell_type": "code",
   "execution_count": null,
   "id": "63da7b4a",
   "metadata": {},
   "outputs": [],
   "source": [
    "#using this feature you can flag objects based on a parent folder\n",
    "# in most cases responsebilities of different power users\n",
    "# are organized in folders. Below you see the object_id's\n",
    "# of folders. Based on this all objects below this folder\n",
    "#will get a flag who is in duty\n",
    "\n",
    "\n",
    "flag_path_d_l=[{\"in_duty\":\"Daniel\",\n",
    "                \"flag_folder_id\":\"032A5E114A59D28267BDD8B6D9E58B22\"},\n",
    "              {\"in_duty\":\"Verena\",\n",
    "                \"flag_folder_id\": \"F025A94B4C03B6DCEE0F5D9DA825DA67\"},\n",
    "              {\"in_duty\":\"Dolores\",\n",
    "                \"flag_folder_id\":\"92ADD0F84D07AC532AD03BA0F92A836B\"},\n",
    "              {\"in_duty\":\"Ed\",\n",
    "                \"flag_folder_id\": \"7F16A4B811E58ED317D50080EFF554EA\"},\n",
    "                {\"in_duty\":\"Mike\",\n",
    "                \"flag_folder_id\": \"D64C532E4E7FBA74D29A7CA3576F39CF\"}]\n",
    "\n",
    "depn_obj_df_flag=i_df_helper.flag_folder_df(flag_path_d_l=flag_path_d_l,obj_df=obj_depn_df,path=\"path_ids\"\n",
    "                                            ,flag_folder_id=\"flag_folder_id\", merge_key_l=['project_id', 'report_id'])\n",
    "obj_depn_d_l=[{\"df\":depn_obj_df_flag,\"tbl_name\":\"obj_depn_df\", \"update_policy\":\"Replace\"}]"
   ]
  },
  {
   "cell_type": "markdown",
   "id": "952d0bf9",
   "metadata": {},
   "source": [
    "## Cubing"
   ]
  },
  {
   "cell_type": "markdown",
   "id": "cdcc22dd",
   "metadata": {},
   "source": [
    "### load cubes"
   ]
  },
  {
   "cell_type": "code",
   "execution_count": null,
   "id": "4e493332",
   "metadata": {},
   "outputs": [],
   "source": [
    "# if the provided mtdi_id = None a new cube is crated\n",
    "# if a valid mtdi_id is provided an existing cube is updated\n",
    "# if the mtdi_id does not exists \n",
    "# or the columns of the dataframe do not fit to the cube\n",
    "# you get an error msg\n",
    "cube_folder_id=\"80CF2C7648B4E9A93C82BD95892E0060\" #Schema Monitor\n",
    "\n",
    "#primery key cube schema usage\n",
    "i_cube.upload_cube_mult_table(conn=conn,tbl_upd_dict=tbl_att_fct_d_l,mtdi_id=cbe_tbl_att_fct_id , cube_name=\"tbl_att_fct\",folder_id=cube_folder_id,force=True)\n",
    "#attribute form expressions \n",
    "i_cube.upload_cube_mult_table(conn=conn,tbl_upd_dict=att_form_exp_d_l,mtdi_id=cbe_att_form_exp_id , cube_name=\"att_form_exp\",folder_id=cube_folder_id,force=True)\n",
    "#fact expressions\n",
    "i_cube.upload_cube_mult_table(conn=conn,tbl_upd_dict=fact_exp_d_l,mtdi_id=cbe_fact_exp_id , cube_name=\"fact_exp\",folder_id=cube_folder_id,force=True)\n",
    "#table definitions\n",
    "i_cube.upload_cube_mult_table(conn=conn,tbl_upd_dict=table_d_l,mtdi_id=cbe_table_id , cube_name=\"table\",folder_id=cube_folder_id,force=True)\n",
    "\n",
    "#define multi table cube\n",
    "#ensure that derived attributes are mapped \n",
    "#over common column names\n",
    "obj_depn_rep_col_usage_l=[]\n",
    "obj_depn_rep_col_usage_l.extend(obj_depn_d_l)\n",
    "obj_depn_rep_col_usage_l.extend(rep_usage_d_l)\n",
    "obj_depn_rep_col_usage_l.extend(view_col_usage_d_l)\n",
    "i_cube.upload_cube_mult_table(conn=conn,tbl_upd_dict=obj_depn_rep_col_usage_l, mtdi_id=cbe_obj_depn_rep_col_usage_id,cube_name=\"obj_depn_rep_col_usage\",folder_id=cube_folder_id,force=True)\n",
    "conn.close()\n",
    "#pa_conn.close()"
   ]
  },
  {
   "cell_type": "markdown",
   "id": "4f9aa34c",
   "metadata": {},
   "source": [
    "### Tips & tricks\n",
    "Pls. find a link to a PDF we're I place advices when they came up. Pls. keep in mind, that most of us, are doing this the first time...\n",
    "\n",
    "https://github.com/magerdaniel/MSTR_Robotics/blob/main/mstr_files_and_ppt/MSTR%20Robotics%20Schema%20Monitor%20Tips.pdf"
   ]
  }
 ],
 "metadata": {
  "kernelspec": {
   "display_name": "Python 3 (ipykernel)",
   "language": "python",
   "name": "python3"
  },
  "language_info": {
   "codemirror_mode": {
    "name": "ipython",
    "version": 3
   },
   "file_extension": ".py",
   "mimetype": "text/x-python",
   "name": "python",
   "nbconvert_exporter": "python",
   "pygments_lexer": "ipython3",
   "version": "3.10.11"
  }
 },
 "nbformat": 4,
 "nbformat_minor": 5
}
